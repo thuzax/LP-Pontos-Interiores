{
 "cells": [
  {
   "cell_type": "markdown",
   "id": "6deb0cfe",
   "metadata": {},
   "source": [
    "# Sumário <a id=\"sumario\"></a>"
   ]
  },
  {
   "cell_type": "markdown",
   "id": "dcc9fcfe",
   "metadata": {},
   "source": [
    "1. [Importações](#importacoes)\n",
    "2. [Funções Auxiliares](#funcoes_aux)\n",
    "3. [Entradas](#entradas)\n",
    "4. [Conversão para Formato Padrão](#conv_fp)\n",
    "5. [Algoritmo](#algoritmo)\n",
    "6. [Saídas](#saidas)"
   ]
  },
  {
   "cell_type": "markdown",
   "id": "0bb0dd30",
   "metadata": {},
   "source": [
    "# Importações <a id=\"importacoes\"></a>"
   ]
  },
  {
   "cell_type": "code",
   "execution_count": 1,
   "id": "630a501f",
   "metadata": {},
   "outputs": [],
   "source": [
    "import numpy\n",
    "import json"
   ]
  },
  {
   "cell_type": "markdown",
   "id": "9bcb5905",
   "metadata": {},
   "source": [
    "# Funções Auxiliares <a id=\"funcoes_aux\"></a>"
   ]
  },
  {
   "cell_type": "markdown",
   "id": "fd925cef",
   "metadata": {},
   "source": [
    "Conversão para Modelo Padrão"
   ]
  },
  {
   "cell_type": "code",
   "execution_count": 2,
   "id": "286e1f1f",
   "metadata": {},
   "outputs": [],
   "source": [
    "def convert_to_min(problem_type, c):\n",
    "    if (problem_type.upper() == \"MAX\"):\n",
    "        return (numpy.array(c) * -1).tolist()\n",
    "    return c\n",
    "\n",
    "def get_slack_sign(operator):\n",
    "    if (operator == \"<\" or operator == \"<=\"):\n",
    "        return 1\n",
    "    elif(operator == \">\" or operator == \">=\"):\n",
    "        return -1\n",
    "    else:\n",
    "        return 0\n",
    "\n",
    "def convert_to_standard_form(problem_type, A, operators, c):\n",
    "    new_A = numpy.copy(A)\n",
    "    new_c = numpy.copy(c).tolist()\n",
    "    new_c = convert_to_min(problem_type, new_c)\n",
    "    for pos, operator in enumerate(operators):\n",
    "        multiplier = get_slack_sign(operator)\n",
    "        if (multiplier == 0):\n",
    "            continue\n",
    "        new_column = numpy.zeros((numpy.size(new_A, axis=0),1))\n",
    "        new_column[pos, 0] = multiplier\n",
    "        new_A = numpy.append(new_A, new_column, axis=1)\n",
    "        new_c.append(0)\n",
    "\n",
    "    return new_A, new_c"
   ]
  },
  {
   "cell_type": "markdown",
   "id": "bd6f3b48",
   "metadata": {},
   "source": [
    "Imprime modelo (formato padrão apenas)"
   ]
  },
  {
   "cell_type": "code",
   "execution_count": 3,
   "id": "8659a742",
   "metadata": {},
   "outputs": [],
   "source": [
    "def print_model(A, b, c):\n",
    "        text = \"*\" * 80 + \"\\n\"\n",
    "        text += \"MODELO NA FORMA PADRÃO:\\n\"\n",
    "        \n",
    "        # Print Objective Function\n",
    "        text += \"min \\t\"\n",
    "        for i in range(len(A[0])):\n",
    "            value = abs(c[i])\n",
    "            text += str(value) + \"x_\" + str(i+1)\n",
    "            if (i < len(c)-1):\n",
    "                if (c[i+1] >= 0):\n",
    "                    text += \" + \"\n",
    "                else:\n",
    "                    text += \" - \"\n",
    "            else:\n",
    "                text += \" \"\n",
    "        text += \"\\n\"\n",
    "        \n",
    "        text += \"Subject to:\\n\"\n",
    "        # Print Ax = b\n",
    "        for i in range(len(A)):\n",
    "            text += \"(\" + str(i+1) + \")\" + \"\\t\"\n",
    "            for j in range(len(A.T)):\n",
    "                value = abs(A[i][j])\n",
    "                text += str(value) + \"x_\" + str(j+1)\n",
    "                if (j < len(A.T)-1):\n",
    "                    if (A[i][j+1] >= 0):\n",
    "                        text += \" + \"\n",
    "                    else:\n",
    "                        text += \" - \"\n",
    "                else:\n",
    "                    text += \" \"\n",
    "            text += \"= \"\n",
    "            text += str(b[i])\n",
    "            text += \"\\n\"\n",
    "\n",
    "        # Print x >= 0\n",
    "        text += \"\\t\"\n",
    "        for i in range(len(A[0])):\n",
    "            text += \"x_\" + str(i+1) + \">=\" + \"0\"\n",
    "            if (i < len(A[0])-1):\n",
    "                text += \", \"\n",
    "            else:\n",
    "                text += \"\\n\"\n",
    "        \n",
    "        text += \"*\" * 80 + \"\\n\"\n",
    "        print(text)"
   ]
  },
  {
   "cell_type": "markdown",
   "id": "c693d25b",
   "metadata": {},
   "source": [
    "Cria dicionário contendo dados de uma solução"
   ]
  },
  {
   "cell_type": "code",
   "execution_count": 4,
   "id": "1e6822bf",
   "metadata": {},
   "outputs": [],
   "source": [
    "def get_solution_dict(\n",
    "    primal_sol, \n",
    "    dual_sol, \n",
    "    dual_slacks_sol, \n",
    "    primal_errors, \n",
    "    dual_errors, \n",
    "    fo_gap\n",
    "):\n",
    "    return {\n",
    "        \"primal\": primal_sol,\n",
    "        \"dual\": dual_sol,\n",
    "        \"dual_slacks\": dual_slacks_sol,\n",
    "        \"ro_P\": primal_errors,\n",
    "        \"ro_D\": dual_errors,\n",
    "        \"gap\": fo_gap\n",
    "    }\n"
   ]
  },
  {
   "cell_type": "markdown",
   "id": "e2ce6d28",
   "metadata": {},
   "source": [
    "Cálculos desvios da factibilidade primal e dual, além do gap entre as funções do primal e dual. Também o cálculo do somatório das folgas complementares."
   ]
  },
  {
   "cell_type": "code",
   "execution_count": 5,
   "id": "4357097c",
   "metadata": {},
   "outputs": [],
   "source": [
    "def calculate_primal_errors(b, A, primal_sol):\n",
    "    return b - numpy.matmul(A, primal_sol)\n",
    "\n",
    "def calculate_dual_errors(b, A, dual_sol, dual_slacks_sol):\n",
    "    return c - numpy.matmul(A.T, dual_sol) - dual_slacks_sol\n",
    "\n",
    "def calculate_fo_gap(primal_sol, dual_slacks_sol, n):\n",
    "    return (numpy.matmul(primal_sol, dual_slacks_sol))/n\n",
    "\n",
    "def calculate_complementary_slacks_sum(alfa, primal_sol, dual_slacks_sol, n):\n",
    "    return alfa * (sum(primal_sol * dual_slacks_sol)/n)"
   ]
  },
  {
   "cell_type": "markdown",
   "id": "dd73fd36",
   "metadata": {},
   "source": [
    "Verificações de factibilidade primal e dual. Verificação de aceitação do gap. Verificação de Otimalidade"
   ]
  },
  {
   "cell_type": "code",
   "execution_count": 6,
   "id": "09dc7140",
   "metadata": {},
   "outputs": [],
   "source": [
    "def primal_is_feasible(primal_errors):\n",
    "    return max(abs(primal_errors)) <= primal_max_error\n",
    "\n",
    "def dual_is_feasible(dual_errors):\n",
    "    return max(abs(dual_errors)) <= dual_max_error\n",
    "\n",
    "def fo_gap_is_acceptable(fo_gap):\n",
    "    return fo_gap <= fo_gap_max_error\n",
    "\n",
    "def is_optimal(primal_errors, dual_errors, fo_gap):\n",
    "    return (\n",
    "        primal_is_feasible(primal_errors) \n",
    "        and dual_is_feasible(dual_errors)\n",
    "        and fo_gap_is_acceptable(fo_gap)\n",
    "    )\n"
   ]
  },
  {
   "cell_type": "markdown",
   "id": "81e4f755",
   "metadata": {},
   "source": [
    "Cálculo do lado direito para encontrar a (direção?) solução dual ($b^{(k)}$)"
   ]
  },
  {
   "cell_type": "code",
   "execution_count": 7,
   "id": "79998445",
   "metadata": {},
   "outputs": [],
   "source": [
    "def calculate_b(A, omega, mi, aux):\n",
    "    return (\n",
    "        primal_errors \n",
    "        + numpy.matmul(\n",
    "            numpy.matmul(A, omega), \n",
    "            (\n",
    "                dual_errors \n",
    "                + mi\n",
    "                - aux\n",
    "            )\n",
    "        )\n",
    "    )"
   ]
  },
  {
   "cell_type": "markdown",
   "id": "a8000035",
   "metadata": {},
   "source": [
    "Cálculo (da direção?) da solução dual"
   ]
  },
  {
   "cell_type": "code",
   "execution_count": 8,
   "id": "71e1ebee",
   "metadata": {},
   "outputs": [],
   "source": [
    "def calculate_dual_solution(A, omega, b):\n",
    "    system_paramters = numpy.matmul(numpy.matmul(A, omega), A.T)\n",
    "    return numpy.linalg.solve(system_paramters, b)"
   ]
  },
  {
   "cell_type": "markdown",
   "id": "06ee1191",
   "metadata": {},
   "source": [
    "Cálculo (da direção?) da solução primal"
   ]
  },
  {
   "cell_type": "code",
   "execution_count": 9,
   "id": "a736769f",
   "metadata": {},
   "outputs": [],
   "source": [
    "def calculate_primal_solution(A, omega, dual_sol, dual_errors, mi, aux):\n",
    "    return (\n",
    "        numpy.matmul(\n",
    "            omega,\n",
    "            (\n",
    "                numpy.matmul(A.T, dual_sol)\n",
    "                - dual_errors\n",
    "                - mi\n",
    "                + aux\n",
    "            )\n",
    "        )\n",
    "    )"
   ]
  },
  {
   "cell_type": "markdown",
   "id": "831d8c29",
   "metadata": {},
   "source": [
    "Cálculo (da direção?) das folgas do dual"
   ]
  },
  {
   "cell_type": "code",
   "execution_count": 10,
   "id": "b2b5167a",
   "metadata": {},
   "outputs": [],
   "source": [
    "def calculate_slacks_dual_solution(mi, aux, omega_inv, primal_sol):\n",
    "    return (\n",
    "        - mi\n",
    "        + aux\n",
    "        - numpy.matmul(omega_inv, primal_sol)\n",
    "    )"
   ]
  },
  {
   "cell_type": "markdown",
   "id": "28be13f9",
   "metadata": {},
   "source": [
    "Cálculo da direção da busca"
   ]
  },
  {
   "cell_type": "code",
   "execution_count": 11,
   "id": "5265da75",
   "metadata": {},
   "outputs": [],
   "source": [
    "def calculate_direction_search(\n",
    "    A, \n",
    "    X, \n",
    "    M, \n",
    "    primal_errors, \n",
    "    dual_errors, \n",
    "    slacks_errors_sum\n",
    "):\n",
    "    M_inv = numpy.linalg.inv(M)\n",
    "    X_inv = numpy.linalg.inv(X)\n",
    "\n",
    "    # Omega = X * M^-1\n",
    "    omega = numpy.matmul(X, M_inv)\n",
    "    omega_inv = numpy.matmul(X_inv, M)\n",
    "\n",
    "    # aux = delta * X^-1 * e\n",
    "    ## WALI, não consegui achar um nome pra variavel aqui, se tiver alguma sujestao\n",
    "    aux = (slacks_errors_sum * X_inv).diagonal()\n",
    "\n",
    "    # b = ro_P + ((A * Omega) * (ro_D + (M * e) - delta*X^-1 * e))\n",
    "    new_b = calculate_b(A, omega, M.diagonal(), aux)\n",
    "\n",
    "    # [A Omega A^T] lambda = b\n",
    "    dual_variation = calculate_dual_solution(A, omega, new_b)    \n",
    "    # x = omega * (A^T lambda - ro_D - (M * e) + (delta * X^-1 * e))\n",
    "    primal_variation = calculate_primal_solution(\n",
    "        A, \n",
    "        omega, \n",
    "        dual_variation,\n",
    "        dual_errors, \n",
    "        M.diagonal(),\n",
    "        aux\n",
    "    )\n",
    "\n",
    "    # mi = - (M * e) + (delta * X^-1 * e) - (omega * x)\n",
    "    dual_slacks_variation = calculate_slacks_dual_solution(\n",
    "        M.diagonal(),\n",
    "        aux,\n",
    "        omega_inv,\n",
    "        primal_variation\n",
    "    )\n",
    "\n",
    "    return (primal_variation, dual_variation, dual_slacks_variation)\n",
    "\n",
    "\n"
   ]
  },
  {
   "cell_type": "markdown",
   "id": "05e2b5b2",
   "metadata": {},
   "source": [
    "Cálculo do tamanho do passo"
   ]
  },
  {
   "cell_type": "code",
   "execution_count": 12,
   "id": "67b71aa2",
   "metadata": {},
   "outputs": [],
   "source": [
    "def calculate_step_size(\n",
    "    beta,\n",
    "    last_primal_sol, \n",
    "    primal_sol, \n",
    "    last_dual_slacks_sol, \n",
    "    dual_slacks_sol\n",
    "):\n",
    "    possibles = [1]\n",
    "    \n",
    "    for i in range(n):\n",
    "        if (primal_sol[i] < 0):\n",
    "            possibles.append(-last_primal_sol[i]/primal_sol[i])\n",
    "        if (dual_slacks_sol[i] < 0):\n",
    "            possibles.append(-last_dual_slacks_sol[i]/dual_slacks_sol[i])\n",
    "\n",
    "    return beta * min(possibles)\n"
   ]
  },
  {
   "cell_type": "markdown",
   "id": "a1c97908",
   "metadata": {},
   "source": [
    "Atualização da solução"
   ]
  },
  {
   "cell_type": "code",
   "execution_count": 13,
   "id": "9675c7bf",
   "metadata": {},
   "outputs": [],
   "source": [
    "def update_solution(\n",
    "    primal_sol,\n",
    "    primal_var,\n",
    "    dual_sol,\n",
    "    dual_var,\n",
    "    dual_slacks_sol,\n",
    "    dual_slacks_var,\n",
    "    step_size\n",
    "):\n",
    "    \n",
    "    primal_sol = primal_sol + step_size * primal_var\n",
    "    dual_sol = dual_sol + step_size * dual_var\n",
    "    dual_slacks_sol = dual_slacks_sol + step_size * dual_slacks_var\n",
    "    \n",
    "    return (primal_sol, dual_sol, dual_slacks_sol)"
   ]
  },
  {
   "cell_type": "markdown",
   "id": "c3decd82",
   "metadata": {},
   "source": [
    "# Entradas <a id=\"entradas\"></a>"
   ]
  },
  {
   "cell_type": "markdown",
   "id": "71f8cb7b",
   "metadata": {},
   "source": [
    "**problem_type**: se o problema de minização (min) ou maximização (max):"
   ]
  },
  {
   "cell_type": "markdown",
   "id": "53ff5d69",
   "metadata": {},
   "source": [
    "**input_costs**: vetor de custos (c)"
   ]
  },
  {
   "cell_type": "markdown",
   "id": "1f6b0264",
   "metadata": {},
   "source": [
    "**input_A**: matriz A"
   ]
  },
  {
   "cell_type": "markdown",
   "id": "5943241a",
   "metadata": {},
   "source": [
    "**operators**: operador de cada restrição (<=, >=, =)"
   ]
  },
  {
   "cell_type": "markdown",
   "id": "7514bc21",
   "metadata": {},
   "source": [
    "**b**: vetor de recursos (b)"
   ]
  },
  {
   "cell_type": "markdown",
   "id": "210373cf",
   "metadata": {},
   "source": [
    "**primal_sol**: solução inicial do primal"
   ]
  },
  {
   "cell_type": "markdown",
   "id": "987a1704",
   "metadata": {},
   "source": [
    "**dual_sol**: solução inicial do dual"
   ]
  },
  {
   "cell_type": "markdown",
   "id": "3a2fa80d",
   "metadata": {},
   "source": [
    "**dual_slacks_sol**: valores das folgas na solução dual"
   ]
  },
  {
   "cell_type": "markdown",
   "id": "421bd8b6",
   "metadata": {},
   "source": [
    "**Parâmetros de Entrada para o Algoritmo**\n",
    "\n",
    "alfa: parâmetro $\\alpha$\n",
    "\n",
    "beta: parâmetro $\\beta$\n",
    "\n",
    "it_max: limite de iterações\n",
    "\n",
    "primal_max_error: erro máximo permitido para $Ax = b$\n",
    "\n",
    "dual_max_error: erro máximo permitido para $A^{T}\\lambda + \\mu = c$\n",
    "\n",
    "fo_gap_max_error: gap máximo para otimalidade ($f(x) - g(\\lambda)$)"
   ]
  },
  {
   "cell_type": "markdown",
   "id": "cfcfacb1",
   "metadata": {},
   "source": [
    "## Exemplo 1"
   ]
  },
  {
   "cell_type": "code",
   "execution_count": 14,
   "id": "a1181f67",
   "metadata": {},
   "outputs": [],
   "source": [
    "problem_type = \"min\""
   ]
  },
  {
   "cell_type": "code",
   "execution_count": 15,
   "id": "b0550878",
   "metadata": {},
   "outputs": [],
   "source": [
    "input_costs = [-1, -2]"
   ]
  },
  {
   "cell_type": "code",
   "execution_count": 16,
   "id": "04050a17",
   "metadata": {},
   "outputs": [],
   "source": [
    "input_A = [\n",
    "    [1, 1],\n",
    "    [1, -1],\n",
    "    [-1, 1]\n",
    "]"
   ]
  },
  {
   "cell_type": "code",
   "execution_count": 17,
   "id": "0399885f",
   "metadata": {},
   "outputs": [],
   "source": [
    "operators = [\"<\", \"<=\", \"<\"]"
   ]
  },
  {
   "cell_type": "code",
   "execution_count": 18,
   "id": "86b4fbe3",
   "metadata": {},
   "outputs": [],
   "source": [
    "b = [6, 4, 4]"
   ]
  },
  {
   "cell_type": "markdown",
   "id": "b4011a77",
   "metadata": {},
   "source": [
    "## Definição do Ponto Inicial:"
   ]
  },
  {
   "cell_type": "code",
   "execution_count": 19,
   "id": "76703744",
   "metadata": {},
   "outputs": [],
   "source": [
    "primal_sol = [1,1,4,4,4]\n",
    "dual_sol = [0,0,0]\n",
    "dual_slacks_sol = [1,1,1,1,1]"
   ]
  },
  {
   "cell_type": "markdown",
   "id": "521f5c04",
   "metadata": {},
   "source": [
    "## Definição dos parâmetros constantes ($\\alpha$, $\\beta$, $K_max$, $\\epsilon$):"
   ]
  },
  {
   "cell_type": "code",
   "execution_count": 20,
   "id": "76d0ef88",
   "metadata": {},
   "outputs": [],
   "source": [
    "alfa = 0.1\n",
    "beta = 0.995\n",
    "it_max = 10\n",
    "primal_max_error = 0.5 * 10**(-3)\n",
    "dual_max_error = 0.5 * 10**(-3)\n",
    "fo_gap_max_error = 0.5 * 10**(-3)"
   ]
  },
  {
   "cell_type": "markdown",
   "id": "4074af77",
   "metadata": {},
   "source": [
    "# Conversão para Formato Padrão <a id=\"conv_fp\"></a>"
   ]
  },
  {
   "cell_type": "code",
   "execution_count": 21,
   "id": "8f478f56",
   "metadata": {},
   "outputs": [],
   "source": [
    "A, c = convert_to_standard_form(problem_type, input_A, operators, input_costs)\n",
    "n = len(A.T)\n",
    "m = len(A)\n",
    "\n",
    "primal_sol = numpy.array(primal_sol)\n",
    "dual_sol = numpy.array(dual_sol)\n",
    "dual_slacks_sol = numpy.array(dual_slacks_sol)"
   ]
  },
  {
   "cell_type": "code",
   "execution_count": 22,
   "id": "925fc418",
   "metadata": {
    "scrolled": false
   },
   "outputs": [
    {
     "name": "stdout",
     "output_type": "stream",
     "text": [
      "********************************************************************************\n",
      "MODELO NA FORMA PADRÃO:\n",
      "min \t1x_1 - 2x_2 + 0x_3 + 0x_4 + 0x_5 \n",
      "Subject to:\n",
      "(1)\t1.0x_1 + 1.0x_2 + 1.0x_3 + 0.0x_4 + 0.0x_5 = 6\n",
      "(2)\t1.0x_1 - 1.0x_2 + 0.0x_3 + 1.0x_4 + 0.0x_5 = 4\n",
      "(3)\t1.0x_1 + 1.0x_2 + 0.0x_3 + 0.0x_4 + 1.0x_5 = 4\n",
      "\tx_1>=0, x_2>=0, x_3>=0, x_4>=0, x_5>=0\n",
      "********************************************************************************\n",
      "\n"
     ]
    }
   ],
   "source": [
    "print_model(A, b, c)"
   ]
  },
  {
   "cell_type": "code",
   "execution_count": 23,
   "id": "2f08fbbf",
   "metadata": {
    "scrolled": false
   },
   "outputs": [
    {
     "name": "stdout",
     "output_type": "stream",
     "text": [
      "Solução inicial do primal: [1 1 4 4 4]\n",
      "Solução inicial do dual: [0 0 0]\n",
      "Folgas do dual: [1 1 1 1 1]\n"
     ]
    }
   ],
   "source": [
    "print(\"Solução inicial do primal:\", primal_sol)\n",
    "print(\"Solução inicial do dual:\", dual_sol)\n",
    "print(\"Folgas do dual:\", dual_slacks_sol)"
   ]
  },
  {
   "cell_type": "markdown",
   "id": "18dc1ba9",
   "metadata": {},
   "source": [
    "# Algoritmo <a id=\"algoritmo\"></a>"
   ]
  },
  {
   "cell_type": "markdown",
   "id": "3b1f86d7",
   "metadata": {},
   "source": [
    "Variáveis de controle"
   ]
  },
  {
   "cell_type": "code",
   "execution_count": 24,
   "id": "7dd35d74",
   "metadata": {},
   "outputs": [],
   "source": [
    "it = 0\n",
    "optimal_found = False"
   ]
  },
  {
   "cell_type": "markdown",
   "id": "6ea597ba",
   "metadata": {},
   "source": [
    "Cálculo de erros e da soma das folgas complementares"
   ]
  },
  {
   "cell_type": "code",
   "execution_count": 25,
   "id": "dc5ba802",
   "metadata": {},
   "outputs": [],
   "source": [
    "primal_errors = calculate_primal_errors(b, A, primal_sol) # ||ro_P||\n",
    "dual_errors = calculate_dual_errors(b, A, dual_sol, dual_slacks_sol) # ||ro_D||\n",
    "fo_gap = calculate_fo_gap(primal_sol, dual_slacks_sol, n) # x*mi/n\n",
    "\n",
    "# delta = alfa * sum_{i = 1...n}{x_i * mi_i}/n\n",
    "complementary_slacks_sum = calculate_complementary_slacks_sum(\n",
    "    alfa,\n",
    "    primal_sol, \n",
    "    dual_slacks_sol,\n",
    "    n\n",
    ")\n",
    "\n",
    "solutions_list = [\n",
    "    get_solution_dict(\n",
    "        primal_sol.tolist(), \n",
    "        dual_sol.tolist(), \n",
    "        dual_slacks_sol.tolist(), \n",
    "        primal_errors.tolist(), \n",
    "        dual_errors.tolist(), \n",
    "        fo_gap\n",
    "    )\n",
    "]"
   ]
  },
  {
   "cell_type": "markdown",
   "id": "2157695c",
   "metadata": {},
   "source": [
    "Definição das matrizes M e X (diagonal preenchida no loop). Definição do vetor e"
   ]
  },
  {
   "cell_type": "code",
   "execution_count": 26,
   "id": "c4961240",
   "metadata": {},
   "outputs": [],
   "source": [
    "M = numpy.zeros(shape=(n,n))\n",
    "X = numpy.zeros(shape=(n,n))\n",
    "e = numpy.array([1] * n)"
   ]
  },
  {
   "cell_type": "markdown",
   "id": "29b47b62",
   "metadata": {},
   "source": [
    "Loop de resolução:"
   ]
  },
  {
   "cell_type": "code",
   "execution_count": 27,
   "id": "abfbb20b",
   "metadata": {},
   "outputs": [],
   "source": [
    "while (not is_optimal(primal_errors, dual_errors, fo_gap) and it < it_max):\n",
    "    numpy.fill_diagonal(M, dual_slacks_sol)\n",
    "    numpy.fill_diagonal(X, primal_sol)\n",
    "\n",
    "    primal_var, dual_var, dual_slacks_var = calculate_direction_search(\n",
    "        A, \n",
    "        X, \n",
    "        M, \n",
    "        primal_errors, \n",
    "        dual_errors, \n",
    "        complementary_slacks_sum\n",
    "    )\n",
    "\n",
    "    step_size = calculate_step_size(\n",
    "        beta, \n",
    "        X.diagonal(), \n",
    "        primal_var,\n",
    "        M.diagonal(),\n",
    "        dual_slacks_var\n",
    "    )\n",
    "    \n",
    "    primal_sol, dual_sol, dual_slacks_sol = updated_sol = update_solution(\n",
    "        primal_sol,\n",
    "        primal_var,\n",
    "        dual_sol,\n",
    "        dual_var,\n",
    "        dual_slacks_sol,\n",
    "        dual_slacks_var,\n",
    "        step_size\n",
    "    )\n",
    "\n",
    "    primal_errors = calculate_primal_errors(b, A, primal_sol)\n",
    "    dual_errors = calculate_dual_errors(b, A, dual_sol, dual_slacks_sol)\n",
    "    fo_gap = calculate_fo_gap(primal_sol, dual_slacks_sol, n)\n",
    "\n",
    "    solutions_list.append(\n",
    "        get_solution_dict(\n",
    "            primal_sol.tolist(), \n",
    "            dual_sol.tolist(), \n",
    "            dual_slacks_sol.tolist(), \n",
    "            primal_errors.tolist(), \n",
    "            dual_errors.tolist(), \n",
    "            fo_gap\n",
    "        )\n",
    "    )\n",
    "    \n",
    "    complementary_slacks_sum = alfa * complementary_slacks_sum\n",
    "\n",
    "\n",
    "    it += it+1\n",
    "\n",
    "\n"
   ]
  },
  {
   "cell_type": "markdown",
   "id": "860b73a2",
   "metadata": {},
   "source": [
    "# Saídas <a id=\"saidas\"></a>"
   ]
  },
  {
   "cell_type": "markdown",
   "id": "cf84fee9",
   "metadata": {},
   "source": [
    "Escrita da solução:"
   ]
  },
  {
   "cell_type": "code",
   "execution_count": 28,
   "id": "0142b00a",
   "metadata": {},
   "outputs": [
    {
     "name": "stdout",
     "output_type": "stream",
     "text": [
      "---------\n",
      "k = 0\n",
      "{\n",
      "    \"primal\": [\n",
      "        1,\n",
      "        1,\n",
      "        4,\n",
      "        4,\n",
      "        4\n",
      "    ],\n",
      "    \"dual\": [\n",
      "        0,\n",
      "        0,\n",
      "        0\n",
      "    ],\n",
      "    \"dual_slacks\": [\n",
      "        1,\n",
      "        1,\n",
      "        1,\n",
      "        1,\n",
      "        1\n",
      "    ],\n",
      "    \"ro_P\": [\n",
      "        0.0,\n",
      "        0.0,\n",
      "        0.0\n",
      "    ],\n",
      "    \"ro_D\": [\n",
      "        -2.0,\n",
      "        -3.0,\n",
      "        -1.0,\n",
      "        -1.0,\n",
      "        -1.0\n",
      "    ],\n",
      "    \"gap\": 2.8\n",
      "}\n",
      "---------\n",
      "k = 1\n",
      "{\n",
      "    \"primal\": [\n",
      "        1.419691943127962,\n",
      "        1.6554739336492892,\n",
      "        2.924834123222749,\n",
      "        4.2357819905213265,\n",
      "        3.764218009478673\n",
      "    ],\n",
      "    \"dual\": [\n",
      "        -0.30180094786729855,\n",
      "        0.02593601895734595,\n",
      "        -0.09195497630331752\n",
      "    ],\n",
      "    \"dual_slacks\": [\n",
      "        0.2407819905213272,\n",
      "        0.0050000000000000044,\n",
      "        0.8302369668246445,\n",
      "        0.5025000000000002,\n",
      "        0.6203909952606635\n",
      "    ],\n",
      "    \"ro_P\": [\n",
      "        0.0,\n",
      "        8.881784197001252e-16,\n",
      "        0.0\n",
      "    ],\n",
      "    \"ro_D\": [\n",
      "        -1.056872037914692,\n",
      "        -1.5853080568720381,\n",
      "        -0.528436018957346,\n",
      "        -0.5284360189573462,\n",
      "        -0.528436018957346\n",
      "    ],\n",
      "    \"gap\": 1.4484372880213834\n",
      "}\n",
      "---------\n",
      "k = 2\n",
      "{\n",
      "    \"primal\": [\n",
      "        2.1435711347972495,\n",
      "        3.513956530304198,\n",
      "        0.34247233489852746,\n",
      "        5.3703853955069665,\n",
      "        2.629614604493013\n",
      "    ],\n",
      "    \"dual\": [\n",
      "        -0.8804123299869282,\n",
      "        0.1433390910889621,\n",
      "        -0.23429381056097653\n",
      "    ],\n",
      "    \"dual_slacks\": [\n",
      "        0.0012039099526066077,\n",
      "        0.005681954060292147,\n",
      "        1.1296245707947365,\n",
      "        0.10587314971884643,\n",
      "        0.483506051368785\n",
      "    ],\n",
      "    \"ro_P\": [\n",
      "        2.4868995751603507e-14,\n",
      "        -1.7763568394002505e-14,\n",
      "        3.8191672047105385e-14\n",
      "    ],\n",
      "    \"ro_D\": [\n",
      "        -0.498424481615617,\n",
      "        -0.7476367224234255,\n",
      "        -0.24921224080780835,\n",
      "        -0.24921224080780852,\n",
      "        -0.24921224080780846\n",
      "    ],\n",
      "    \"gap\": 0.44988523231673927\n",
      "}\n",
      "---------\n",
      "k = 3\n",
      "{\n",
      "    \"primal\": [\n",
      "        1.4600586946360061,\n",
      "        4.50778842929628,\n",
      "        0.03215287606769085,\n",
      "        7.047729734660182,\n",
      "        0.952270265339823\n",
      "    ],\n",
      "    \"dual\": [\n",
      "        -1.3055879763949858,\n",
      "        0.07771174915401848,\n",
      "        -0.38270046359873466\n",
      "    ],\n",
      "    \"dual_slacks\": [\n",
      "        0.001657993447458047,\n",
      "        0.0007235338555767216,\n",
      "        1.3838290912975983,\n",
      "        0.0005293657485942321,\n",
      "        0.46094157850134726\n",
      "    ],\n",
      "    \"ro_P\": [\n",
      "        2.3092638912203256e-14,\n",
      "        9.192646643896296e-14,\n",
      "        -9.681144774731365e-14\n",
      "    ],\n",
      "    \"ro_D\": [\n",
      "        -0.15648222980522536,\n",
      "        -0.2347233447078379,\n",
      "        -0.07824111490261254,\n",
      "        -0.07824111490261271,\n",
      "        -0.0782411149026126\n",
      "    ],\n",
      "    \"gap\": 0.0985696353109707\n",
      "}\n",
      "---------\n",
      "k = 4\n",
      "{\n",
      "    \"primal\": [\n",
      "        1.002222795420517,\n",
      "        4.997461444094004,\n",
      "        0.0003157604852383686,\n",
      "        7.995238648673456,\n",
      "        0.0047613513266990815\n",
      "    ],\n",
      "    \"dual\": [\n",
      "        -1.4845122989295474,\n",
      "        0.006360340700605788,\n",
      "        -0.49005844697213197\n",
      "    ],\n",
      "    \"dual_slacks\": [\n",
      "        0.0008310251568739172,\n",
      "        3.735745238147485e-05,\n",
      "        1.4908810558795795,\n",
      "        8.416249426340715e-06,\n",
      "        0.49642720392216405\n",
      "    ],\n",
      "    \"ro_P\": [\n",
      "        2.4069635173873394e-13,\n",
      "        3.108624468950438e-14,\n",
      "        -1.865174681370263e-13\n",
      "    ],\n",
      "    \"ro_D\": [\n",
      "        -0.012737513900064364,\n",
      "        -0.019106270850096134,\n",
      "        -0.0063687569500321395,\n",
      "        -0.006368756950032128,\n",
      "        -0.006368756950032084\n",
      "    ],\n",
      "    \"gap\": 0.0007842560716089686\n",
      "}\n"
     ]
    }
   ],
   "source": [
    "for i, solution in enumerate(solutions_list):\n",
    "    print(\"---------\")\n",
    "    print(\"k =\", i)\n",
    "    print(json.dumps(solution, indent=4))\n"
   ]
  }
 ],
 "metadata": {
  "kernelspec": {
   "display_name": "Python 3 (ipykernel)",
   "language": "python",
   "name": "python3"
  },
  "language_info": {
   "codemirror_mode": {
    "name": "ipython",
    "version": 3
   },
   "file_extension": ".py",
   "mimetype": "text/x-python",
   "name": "python",
   "nbconvert_exporter": "python",
   "pygments_lexer": "ipython3",
   "version": "3.10.12"
  }
 },
 "nbformat": 4,
 "nbformat_minor": 5
}
