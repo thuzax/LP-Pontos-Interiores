{
 "cells": [
  {
   "cell_type": "markdown",
   "id": "0d787ea7",
   "metadata": {},
   "source": [
    "# SME5902 - Otimização Linear II\n",
    "\n",
    "## Implementação do Algoritmo Primal-Dual de Pontos Interiores\n",
    "\n",
    "### Arthur Henrique Sousa Cruz - 15567289\n",
    "### Walison Adrian de Oliveira - 11845282\n",
    "\n",
    "### Profa. Maristela Oliveira dos Santos"
   ]
  },
  {
   "cell_type": "markdown",
   "id": "6deb0cfe",
   "metadata": {},
   "source": [
    "# Sumário <a id=\"sumario\"></a>"
   ]
  },
  {
   "cell_type": "markdown",
   "id": "dcc9fcfe",
   "metadata": {},
   "source": [
    "1. [Importações](#importacoes)\n",
    "2. [Funções Auxiliares](#funcoes_aux)\n",
    "3. [Algoritmo](#algoritmo)\n",
    "4. [Descrição das Entradas](#entradas)\n",
    "5. [Exemplos](#exemplos)"
   ]
  },
  {
   "cell_type": "markdown",
   "id": "0bb0dd30",
   "metadata": {},
   "source": [
    "# Importações <a id=\"importacoes\"></a>"
   ]
  },
  {
   "cell_type": "code",
   "execution_count": 1,
   "id": "630a501f",
   "metadata": {},
   "outputs": [],
   "source": [
    "import numpy\n",
    "import json\n",
    "import matplotlib.pyplot as plt"
   ]
  },
  {
   "cell_type": "markdown",
   "id": "9bcb5905",
   "metadata": {},
   "source": [
    "# Funções Auxiliares <a id=\"funcoes_aux\"></a>"
   ]
  },
  {
   "cell_type": "markdown",
   "id": "7e2b56a4",
   "metadata": {},
   "source": [
    "Adiciona restrição artificial"
   ]
  },
  {
   "cell_type": "code",
   "execution_count": 2,
   "id": "2946a156",
   "metadata": {},
   "outputs": [],
   "source": [
    "def add_artificial_constraint(A, b, c, operators):\n",
    "    new_A = numpy.copy(A).tolist()\n",
    "    new_b = numpy.copy(b).tolist()\n",
    "    new_c = numpy.copy(c).tolist()\n",
    "    new_operators = numpy.copy(operators).tolist()\n",
    "    \n",
    "    new_left_side = []\n",
    "    for i in range(len(c)):\n",
    "        new_left_side.append(1)\n",
    "    new_A.append(new_left_side)\n",
    "    \n",
    "    big_M = (numpy.max(numpy.abs(new_b))) * (len(new_b))\n",
    "    new_b.append(big_M)\n",
    "    \n",
    "    new_operators.append(\"<=\")\n",
    "    \n",
    "    \n",
    "    new_A = numpy.array(new_A)\n",
    "    new_b = numpy.array(new_b)\n",
    "    new_c = numpy.array(new_c)\n",
    "    \n",
    "    return (new_A, new_b, new_c, new_operators)"
   ]
  },
  {
   "cell_type": "markdown",
   "id": "fd925cef",
   "metadata": {},
   "source": [
    "Conversão para Modelo Padrão"
   ]
  },
  {
   "cell_type": "code",
   "execution_count": 3,
   "id": "286e1f1f",
   "metadata": {},
   "outputs": [],
   "source": [
    "def convert_to_min(problem_type, c):\n",
    "    if (problem_type.upper() == \"MAX\"):\n",
    "        return (numpy.array(c) * -1).tolist()\n",
    "    return c\n",
    "\n",
    "def get_slack_sign(operator):\n",
    "    if (operator == \"<\" or operator == \"<=\"):\n",
    "        return 1\n",
    "    elif(operator == \">\" or operator == \">=\"):\n",
    "        return -1\n",
    "    else:\n",
    "        return 0\n",
    "\n",
    "def convert_to_standard_form(problem_type, A, operators, c):\n",
    "    new_A = numpy.copy(A)\n",
    "    new_c = numpy.copy(c).tolist()\n",
    "    new_c = convert_to_min(problem_type, new_c)\n",
    "    for pos, operator in enumerate(operators):\n",
    "        multiplier = get_slack_sign(operator)\n",
    "        if (multiplier == 0):\n",
    "            continue\n",
    "        new_column = numpy.zeros((numpy.size(new_A, axis=0),1))\n",
    "        new_column[pos, 0] = multiplier\n",
    "        new_A = numpy.append(new_A, new_column, axis=1)\n",
    "        new_c.append(0)\n",
    "\n",
    "    return new_A, new_c"
   ]
  },
  {
   "cell_type": "markdown",
   "id": "cb8642ff",
   "metadata": {},
   "source": [
    "Converte o modelo para o formato Ax $\\leq$ b e adiciona restrições x $\\ge$ 0 (usado para plot. Funciona somente para duas variáveis.)"
   ]
  },
  {
   "cell_type": "code",
   "execution_count": 4,
   "id": "defa768c",
   "metadata": {},
   "outputs": [],
   "source": [
    "def convert_to_less_equal(A, operators, b):\n",
    "    new_A = numpy.copy(A)\n",
    "    new_b = numpy.copy(b)\n",
    "    for i, operator in enumerate(operators):\n",
    "        multiplier = get_slack_sign(operator)\n",
    "        if (multiplier == 1):\n",
    "            continue\n",
    "        elif (multiplier == 0):\n",
    "            new_A = numpy.append(new_A, -1 * new_A[i:i+1, :], axis=0)\n",
    "            new_b = numpy.append(new_b, -1 * new_b[i])\n",
    "        else:\n",
    "            new_A[i] = -1*new_A[i]\n",
    "            new_b[i] = -1*new_b[i]\n",
    "        \n",
    "    #Restricoes de nao negatividade\n",
    "    new_A = numpy.append(new_A, [[-1, 0]], axis=0)\n",
    "    new_b = numpy.append(new_b, 0)\n",
    "    new_A = numpy.append(new_A, [[0, -1]], axis=0)\n",
    "    new_b = numpy.append(new_b, 0)\n",
    "    \n",
    "    return new_A, new_b"
   ]
  },
  {
   "cell_type": "markdown",
   "id": "bd6f3b48",
   "metadata": {},
   "source": [
    "Imprime modelo (formato padrão apenas)"
   ]
  },
  {
   "cell_type": "code",
   "execution_count": 5,
   "id": "8659a742",
   "metadata": {},
   "outputs": [],
   "source": [
    "def print_model(A, b, c):\n",
    "        text = \"*\" * 80 + \"\\n\"\n",
    "        text += \"MODELO NA FORMA PADRÃO:\\n\"\n",
    "        \n",
    "        # Print Objective Function\n",
    "        text += \"min \\t\"\n",
    "        for i in range(len(A[0])):\n",
    "            value = abs(c[i])\n",
    "            if (i == 0 and c[i] < 0):\n",
    "                text += \"- \"\n",
    "            if (i == 0 and c[i] >= 0):\n",
    "                text += \"+ \"\n",
    "            text += str(value) + \"x_\" + str(i+1)\n",
    "            if (i < len(c)-1):\n",
    "                if (c[i+1] >= 0):\n",
    "                    text += \" + \"\n",
    "                else:\n",
    "                    text += \" - \"\n",
    "            else:\n",
    "                text += \" \"\n",
    "        text += \"\\n\"\n",
    "        \n",
    "        text += \"Subject to:\\n\"\n",
    "        # Print Ax = b\n",
    "        for i in range(len(A)):\n",
    "            text += \"(\" + str(i+1) + \")\" + \"\\t\"\n",
    "            for j in range(len(A.T)):\n",
    "                value = abs(A[i][j])\n",
    "                if (j == 0 and A[i][j] < 0):\n",
    "                    text += \"- \"\n",
    "                if (j == 0 and A[i][j] >= 0):\n",
    "                    text += \"+ \"\n",
    "                text += str(value) + \"x_\" + str(j+1)\n",
    "                if (j < len(A.T)-1):\n",
    "                    if (A[i][j+1] >= 0):\n",
    "                        text += \" + \"\n",
    "                    else:\n",
    "                        text += \" - \"\n",
    "                else:\n",
    "                    text += \" \"\n",
    "            text += \"= \"\n",
    "            text += str(b[i])\n",
    "            text += \"\\n\"\n",
    "\n",
    "        # Print x >= 0\n",
    "        text += \"\\t\"\n",
    "        for i in range(len(A[0])):\n",
    "            text += \"x_\" + str(i+1) + \">=\" + \"0\"\n",
    "            if (i < len(A[0])-1):\n",
    "                text += \", \"\n",
    "            else:\n",
    "                text += \"\\n\"\n",
    "        \n",
    "        text += \"*\" * 80 + \"\\n\"\n",
    "        print(text)"
   ]
  },
  {
   "cell_type": "markdown",
   "id": "ca7cccd0",
   "metadata": {},
   "source": [
    "Plota gráfico da solução (se houver)"
   ]
  },
  {
   "cell_type": "code",
   "execution_count": 6,
   "id": "aa08ea92",
   "metadata": {},
   "outputs": [],
   "source": [
    "def satisfies_constraints(X, Y, A, b):\n",
    "        points = numpy.vstack((X.ravel(), Y.ravel())).T\n",
    "        constraints = numpy.all(numpy.dot(A, points.T) <= b[:, numpy.newaxis], axis=0)\n",
    "        return constraints.reshape(X.shape)\n",
    "\n",
    "def plot_graph(input_A, b, operators, solutions_list, infeasible):\n",
    "\n",
    "    A, b = convert_to_less_equal(input_A, operators, b)\n",
    "#     x = numpy.linspace(-10, 10, 800)\n",
    "#     y = numpy.linspace(-10, 10, 800)\n",
    "    x = numpy.linspace(min(min(b), -2), 2*max(b), (2*max(b)-min(min(b), -2))*40)\n",
    "    y = numpy.linspace(min(min(b), -2), 2*max(b), (2*max(b)-min(min(b), -2))*40)\n",
    "    X, Y = numpy.meshgrid(x, y)\n",
    "\n",
    "    #Região factível\n",
    "    feasible_region = satisfies_constraints(X, Y, A, b)\n",
    "    plt.figure(figsize=(8, 8))\n",
    "#     plt.imshow(feasible_region, extent=(-10, 10, -10, 10), origin=\"lower\", cmap=\"Greys\", alpha=0.3)\n",
    "    plt.imshow(feasible_region, extent=(min(min(b), -2), 2*max(b), min(min(b), -2), 2*max(b)), origin=\"lower\", cmap=\"Greys\", alpha=0.3)\n",
    "\n",
    "    cores = ['#7e1e9c', '#15b01a', '#0343df', '#ff81c0', '#653700', '#e50000', '#95d0fc', '#f97306', '#c20078', '#ffff14', '#929591','#9a0eea', '#0bf9ea', '#920a4e', '#befdb7', '#f5bf03', '#ffa62b', '#e6daa6', '#ffb07c', '#ceb301', '#000000', '#c1c6fc', '#c4fff7', '#840000', '#ff028d', '#fc5a50', '#ffffe4', '#7e1e9c', '#15b01a', '#0343df', '#ff81c0', '#653700', '#e50000', '#95d0fc', '#f97306', '#c20078', '#ffff14', '#929591','#9a0eea', '#0bf9ea', '#920a4e', '#befdb7', '#f5bf03', '#ffa62b', '#e6daa6', '#ffb07c', '#ceb301', '#000000', '#c1c6fc', '#c4fff7', '#840000', '#ff028d', '#fc5a50', '#ffffe4', '#7e1e9c', '#15b01a', '#0343df', '#ff81c0', '#653700', '#e50000', '#95d0fc', '#f97306', '#c20078', '#ffff14', '#929591','#9a0eea', '#0bf9ea', '#920a4e', '#befdb7', '#f5bf03', '#ffa62b', '#e6daa6', '#ffb07c', '#ceb301', '#000000', '#c1c6fc', '#c4fff7', '#840000', '#ff028d', '#fc5a50', '#ffffe4', '#7e1e9c', '#15b01a', '#0343df', '#ff81c0', '#653700', '#e50000', '#95d0fc', '#f97306', '#c20078', '#ffff14', '#929591','#9a0eea', '#0bf9ea', '#920a4e', '#befdb7', '#f5bf03', '#ffa62b', '#e6daa6', '#ffb07c', '#ceb301', '#000000', '#c1c6fc', '#c4fff7', '#840000', '#ff028d', '#fc5a50','#ffffe4', '#7e1e9c', '#15b01a', '#0343df', '#ff81c0', '#653700', '#e50000', '#95d0fc', '#f97306', '#c20078', '#ffff14', '#929591','#9a0eea', '#0bf9ea', '#920a4e', '#befdb7', '#f5bf03', '#ffa62b', '#e6daa6', '#ffb07c', '#ceb301', '#000000', '#c1c6fc', '#c4fff7', '#840000', '#ff028d', '#fc5a50']\n",
    "\n",
    "    #Linhas das restricoes\n",
    "    for i in range(len(A)):\n",
    "        \n",
    "        color = cores[i]\n",
    "        \n",
    "        if i >= len(A) - 2:\n",
    "            \n",
    "            color = 'black'\n",
    "        \n",
    "        if(A[i][0] == 0):\n",
    "            \n",
    "            text = str(A[i][1]) + \"$x_2 \\leq $\" + str(b[i])\n",
    "            plt.axvline(x=b[i]/A[i][1], label = text, color = color)\n",
    "            \n",
    "        elif (A[i][1] == 0):\n",
    "            \n",
    "            text = str(A[i][0]) + \"$x_1 \\leq $\" + str(b[i])\n",
    "            plt.axhline(y=b[i]/A[i][0], label = text, color = color)\n",
    "            \n",
    "        else:\n",
    "            \n",
    "            if (A[i][1] > 0):\n",
    "                \n",
    "                text = str(A[i][0]) + \"$x_1 +$\" + str(A[i][1]) + \"$x_2 \\leq $\" + str(b[i])\n",
    "            else:\n",
    "                \n",
    "                text = str(A[i][0]) + \"$x_1 -$\" + str(-A[i][1]) + \"$x_2 \\leq $\" + str(b[i])\n",
    "                \n",
    "            plt.plot(x, (b[i] - A[i][0]*x)/A[i][1], label = text, color = color)\n",
    "\n",
    "    #Solucoes\n",
    "    for solution in solutions_list:\n",
    "        plt.plot(solution[\"primal\"][0], solution[\"primal\"][1], 'ro', markersize=6)\n",
    "        \n",
    "    #Grafico\n",
    "    plt.xlim(-2, 2*max(abs(b)))\n",
    "    plt.ylim(-2, 2*max(abs(b)))\n",
    "    plt.xlabel('$x_1$')\n",
    "    plt.ylabel('$x_2$')\n",
    "    plt.legend()\n",
    "    \n",
    "    if (infeasible):\n",
    "        plt.title('Região Infactível')\n",
    "    else:\n",
    "        plt.title('Região Factível')\n",
    "        \n",
    "    plt.grid(True)\n",
    "\n",
    "    plt.show()\n",
    "    \n",
    "    return"
   ]
  },
  {
   "cell_type": "markdown",
   "id": "c693d25b",
   "metadata": {},
   "source": [
    "Cria dicionário contendo dados de uma solução"
   ]
  },
  {
   "cell_type": "code",
   "execution_count": 7,
   "id": "1e6822bf",
   "metadata": {},
   "outputs": [],
   "source": [
    "def get_solution_dict(\n",
    "    primal_sol, \n",
    "    dual_sol, \n",
    "    dual_slacks_sol, \n",
    "    primal_errors, \n",
    "    dual_errors, \n",
    "    fo_gap\n",
    "):\n",
    "    return {\n",
    "        \"primal\": primal_sol,\n",
    "        \"dual\": dual_sol,\n",
    "        \"dual_slacks\": dual_slacks_sol,\n",
    "        \"ro_P\": primal_errors,\n",
    "        \"ro_D\": dual_errors,\n",
    "        \"gap\": fo_gap\n",
    "    }\n"
   ]
  },
  {
   "cell_type": "markdown",
   "id": "e2ce6d28",
   "metadata": {},
   "source": [
    "Cálculos desvios da factibilidade primal e dual, além do gap entre as funções do primal e dual. Também o cálculo do somatório das folgas complementares."
   ]
  },
  {
   "cell_type": "code",
   "execution_count": 8,
   "id": "4357097c",
   "metadata": {},
   "outputs": [],
   "source": [
    "def calculate_primal_errors(b, A, primal_sol):\n",
    "    return b - numpy.matmul(A, primal_sol)\n",
    "\n",
    "def calculate_dual_errors(c, A, dual_sol, dual_slacks_sol):\n",
    "    return c - numpy.matmul(A.T, dual_sol) - dual_slacks_sol\n",
    "\n",
    "def calculate_fo_gap(primal_sol, dual_slacks_sol, n):\n",
    "    return (numpy.matmul(primal_sol, dual_slacks_sol))/n\n",
    "\n",
    "def calculate_complementary_slacks_sum(alfa, primal_sol, dual_slacks_sol, n):\n",
    "    return alfa * (sum(primal_sol * dual_slacks_sol)/n)"
   ]
  },
  {
   "cell_type": "markdown",
   "id": "dd73fd36",
   "metadata": {},
   "source": [
    "Verificações de factibilidade primal e dual. Verificação de aceitação do gap. Verificação de Otimalidade"
   ]
  },
  {
   "cell_type": "code",
   "execution_count": 9,
   "id": "09dc7140",
   "metadata": {},
   "outputs": [],
   "source": [
    "def primal_is_feasible(primal_errors):\n",
    "    \n",
    "    return numpy.linalg.norm(primal_errors, ord=numpy.inf) <= primal_max_error\n",
    "\n",
    "def dual_is_feasible(dual_errors):\n",
    "    \n",
    "    return numpy.linalg.norm(dual_errors, ord=numpy.inf) <= dual_max_error\n",
    "\n",
    "def fo_gap_is_acceptable(fo_gap):\n",
    "    return fo_gap <= fo_gap_max_error\n",
    "\n",
    "def is_optimal(primal_errors, dual_errors, fo_gap):\n",
    "    return (\n",
    "        primal_is_feasible(primal_errors)\n",
    "        and dual_is_feasible(dual_errors)\n",
    "        and fo_gap_is_acceptable(fo_gap)\n",
    "    )"
   ]
  },
  {
   "cell_type": "markdown",
   "id": "81e4f755",
   "metadata": {},
   "source": [
    "Cálculo do lado direito para encontrar a (direção?) solução dual ($b^{(k)}$)"
   ]
  },
  {
   "cell_type": "code",
   "execution_count": 10,
   "id": "79998445",
   "metadata": {},
   "outputs": [],
   "source": [
    "def calculate_b(A, omega, mi, aux, primal_errors, dual_errors):\n",
    "    return (\n",
    "        primal_errors \n",
    "        + numpy.matmul(\n",
    "            numpy.matmul(A, omega), \n",
    "            (\n",
    "                dual_errors \n",
    "                + mi\n",
    "                - aux\n",
    "            )\n",
    "        )\n",
    "    )"
   ]
  },
  {
   "cell_type": "markdown",
   "id": "a8000035",
   "metadata": {},
   "source": [
    "Cálculo (da direção?) da solução dual"
   ]
  },
  {
   "cell_type": "code",
   "execution_count": 11,
   "id": "71e1ebee",
   "metadata": {},
   "outputs": [],
   "source": [
    "def calculate_dual_solution(A, omega, b_k):\n",
    "    system_paramters = numpy.matmul(numpy.matmul(A, omega), A.T)\n",
    "    return numpy.linalg.solve(system_paramters, b_k)"
   ]
  },
  {
   "cell_type": "markdown",
   "id": "06ee1191",
   "metadata": {},
   "source": [
    "Cálculo (da direção?) da solução primal"
   ]
  },
  {
   "cell_type": "code",
   "execution_count": 12,
   "id": "a736769f",
   "metadata": {},
   "outputs": [],
   "source": [
    "def calculate_primal_solution(A, omega, dual_sol, dual_errors, mi, aux):\n",
    "    return (\n",
    "        numpy.matmul(\n",
    "            omega,\n",
    "            (\n",
    "                numpy.matmul(A.T, dual_sol)\n",
    "                - dual_errors\n",
    "                - mi\n",
    "                + aux\n",
    "            )\n",
    "        )\n",
    "    )"
   ]
  },
  {
   "cell_type": "markdown",
   "id": "831d8c29",
   "metadata": {},
   "source": [
    "Cálculo (da direção?) das folgas do dual"
   ]
  },
  {
   "cell_type": "code",
   "execution_count": 13,
   "id": "b2b5167a",
   "metadata": {},
   "outputs": [],
   "source": [
    "def calculate_slacks_dual_solution(mi, aux, omega_inv, primal_sol):\n",
    "    return (\n",
    "        - mi\n",
    "        + aux\n",
    "        - numpy.matmul(omega_inv, primal_sol)\n",
    "    )"
   ]
  },
  {
   "cell_type": "markdown",
   "id": "28be13f9",
   "metadata": {},
   "source": [
    "Cálculo da direção da busca"
   ]
  },
  {
   "cell_type": "code",
   "execution_count": 14,
   "id": "5265da75",
   "metadata": {},
   "outputs": [],
   "source": [
    "def calculate_direction_search(\n",
    "    A, \n",
    "    X, \n",
    "    M, \n",
    "    primal_errors, \n",
    "    dual_errors, \n",
    "    slacks_errors_sum\n",
    "):\n",
    "    M_inv = numpy.linalg.inv(M)\n",
    "    X_inv = numpy.linalg.inv(X)\n",
    "\n",
    "    # Omega = X * M^-1\n",
    "    omega = numpy.matmul(X, M_inv)\n",
    "    omega_inv = numpy.matmul(X_inv, M)\n",
    "\n",
    "    # aux = delta * X^-1 * e\n",
    "    aux = (slacks_errors_sum * X_inv).diagonal()\n",
    "\n",
    "    # b = ro_P + ((A * Omega) * (ro_D + (M * e) - delta*X^-1 * e))\n",
    "    new_b = calculate_b(A, omega, M.diagonal(), aux, primal_errors, dual_errors)\n",
    "\n",
    "    # [A Omega A^T] lambda = b\n",
    "    dual_variation = calculate_dual_solution(A, omega, new_b)    \n",
    "    # x = omega * (A^T lambda - ro_D - (M * e) + (delta * X^-1 * e))\n",
    "    primal_variation = calculate_primal_solution(\n",
    "        A, \n",
    "        omega, \n",
    "        dual_variation,\n",
    "        dual_errors, \n",
    "        M.diagonal(),\n",
    "        aux\n",
    "    )\n",
    "\n",
    "    # mi = - (M * e) + (delta * X^-1 * e) - (omega * x)\n",
    "    dual_slacks_variation = calculate_slacks_dual_solution(\n",
    "        M.diagonal(),\n",
    "        aux,\n",
    "        omega_inv,\n",
    "        primal_variation\n",
    "    )\n",
    "\n",
    "    return (primal_variation, dual_variation, dual_slacks_variation)"
   ]
  },
  {
   "cell_type": "markdown",
   "id": "05e2b5b2",
   "metadata": {},
   "source": [
    "Cálculo do tamanho do passo"
   ]
  },
  {
   "cell_type": "code",
   "execution_count": 15,
   "id": "67b71aa2",
   "metadata": {},
   "outputs": [],
   "source": [
    "def calculate_step_size(\n",
    "    beta,\n",
    "    last_primal_sol, \n",
    "    primal_sol, \n",
    "    last_dual_slacks_sol, \n",
    "    dual_slacks_sol\n",
    "):\n",
    "    possibles = [1]\n",
    "    \n",
    "    for i in range(n):\n",
    "        if (primal_sol[i] < 0):\n",
    "            possibles.append(-last_primal_sol[i]/primal_sol[i])\n",
    "        if (dual_slacks_sol[i] < 0):\n",
    "            possibles.append(-last_dual_slacks_sol[i]/dual_slacks_sol[i])\n",
    "\n",
    "    return beta * min(possibles)\n"
   ]
  },
  {
   "cell_type": "markdown",
   "id": "a1c97908",
   "metadata": {},
   "source": [
    "Atualização da solução"
   ]
  },
  {
   "cell_type": "code",
   "execution_count": 16,
   "id": "9675c7bf",
   "metadata": {},
   "outputs": [],
   "source": [
    "def update_solution(\n",
    "    primal_sol,\n",
    "    primal_var,\n",
    "    dual_sol,\n",
    "    dual_var,\n",
    "    dual_slacks_sol,\n",
    "    dual_slacks_var,\n",
    "    step_size\n",
    "):\n",
    "    \n",
    "    primal_sol = primal_sol + step_size * primal_var\n",
    "    dual_sol = dual_sol + step_size * dual_var\n",
    "    dual_slacks_sol = dual_slacks_sol + step_size * dual_slacks_var\n",
    "    \n",
    "    return (primal_sol, dual_sol, dual_slacks_sol)"
   ]
  },
  {
   "cell_type": "markdown",
   "id": "18dc1ba9",
   "metadata": {},
   "source": [
    "# Algoritmo <a id=\"algoritmo\"></a>"
   ]
  },
  {
   "cell_type": "code",
   "execution_count": 17,
   "id": "7dd35d74",
   "metadata": {},
   "outputs": [],
   "source": [
    "def solve(\n",
    "    A, \n",
    "    b, \n",
    "    c, \n",
    "    primal_sol, \n",
    "    dual_sol, \n",
    "    dual_slacks_sol, \n",
    "    alfa, \n",
    "    beta, \n",
    "    it_max, \n",
    "    primal_max_error, \n",
    "    dual_max_error, \n",
    "    fo_gap_max_error\n",
    "):\n",
    "\n",
    "    # Initialize\n",
    "    it = 0\n",
    "    \n",
    "    # Calculate errors for initial solution\n",
    "    primal_errors = calculate_primal_errors(b, A, primal_sol) # ||ro_P||\n",
    "    dual_errors = calculate_dual_errors(c, A, dual_sol, dual_slacks_sol) # ||ro_D||\n",
    "    fo_gap = calculate_fo_gap(primal_sol, dual_slacks_sol, n) # x*mi/n\n",
    "\n",
    "    # delta = alfa * sum_{i = 1...n}{x_i * mi_i}/n\n",
    "    complementary_slacks_sum = calculate_complementary_slacks_sum(\n",
    "        alfa,\n",
    "        primal_sol, \n",
    "        dual_slacks_sol,\n",
    "        n\n",
    "    )\n",
    "\n",
    "    # Add solution to solutions list\n",
    "    solutions_list = [\n",
    "        get_solution_dict(\n",
    "            primal_sol.tolist(), \n",
    "            dual_sol.tolist(), \n",
    "            dual_slacks_sol.tolist(), \n",
    "            primal_errors.tolist(), \n",
    "            dual_errors.tolist(), \n",
    "            fo_gap\n",
    "        )\n",
    "    ]\n",
    "    \n",
    "    # Define mi and x diagonal matrices, along with e = [1, ..., 1] vector\n",
    "    M = numpy.zeros(shape=(n,n))\n",
    "    X = numpy.zeros(shape=(n,n))\n",
    "    e = numpy.array([1] * n)\n",
    "    \n",
    "    # Main loop\n",
    "    while (not is_optimal(primal_errors, dual_errors, fo_gap) and it < it_max):\n",
    "        numpy.fill_diagonal(M, dual_slacks_sol)\n",
    "        numpy.fill_diagonal(X, primal_sol)\n",
    "\n",
    "        primal_var, dual_var, dual_slacks_var = calculate_direction_search(\n",
    "            A, \n",
    "            X, \n",
    "            M, \n",
    "            primal_errors, \n",
    "            dual_errors, \n",
    "            complementary_slacks_sum\n",
    "        )\n",
    "\n",
    "        step_size = calculate_step_size(\n",
    "            beta, \n",
    "            X.diagonal(), \n",
    "            primal_var,\n",
    "            M.diagonal(),\n",
    "            dual_slacks_var\n",
    "        )\n",
    "\n",
    "        primal_sol, dual_sol, dual_slacks_sol = updated_sol = update_solution(\n",
    "            primal_sol,\n",
    "            primal_var,\n",
    "            dual_sol,\n",
    "            dual_var,\n",
    "            dual_slacks_sol,\n",
    "            dual_slacks_var,\n",
    "            step_size\n",
    "        )\n",
    "\n",
    "        primal_errors = calculate_primal_errors(b, A, primal_sol)\n",
    "        dual_errors = calculate_dual_errors(c, A, dual_sol, dual_slacks_sol)\n",
    "        fo_gap = calculate_fo_gap(primal_sol, dual_slacks_sol, n)\n",
    "\n",
    "        solutions_list.append(\n",
    "            get_solution_dict(\n",
    "                primal_sol.tolist(), \n",
    "                dual_sol.tolist(), \n",
    "                dual_slacks_sol.tolist(), \n",
    "                primal_errors.tolist(), \n",
    "                dual_errors.tolist(), \n",
    "                fo_gap\n",
    "            )\n",
    "        )\n",
    "\n",
    "        complementary_slacks_sum = alfa * complementary_slacks_sum\n",
    "\n",
    "        it += 1\n",
    "\n",
    "    infeasible = False\n",
    "    unbounded = False\n",
    "    gap_acceptable = True\n",
    "    optimal_found = is_optimal(primal_errors, dual_errors, fo_gap)\n",
    "    it_max_reached = False\n",
    "\n",
    "#     print(\"primal_is_feasible(primal_errors)\", primal_is_feasible(primal_errors))\n",
    "#     print(\"dual_is_feasible(dual_errors)\", dual_is_feasible(dual_errors))\n",
    "#     print(\"fo_gap_is_acceptable(fo_gap)\", fo_gap_is_acceptable(fo_gap))\n",
    "#     print(\"is_optimal(primal_errors, dual_errors, fo_gap)\", is_optimal(primal_errors, dual_errors, fo_gap))\n",
    "    \n",
    "    if (it == it_max and not optimal_found):\n",
    "        it_max_reached = True\n",
    "        if (primal_is_feasible(primal_errors) and not dual_is_feasible(dual_errors)):\n",
    "            unbounded = True\n",
    "        elif (primal_is_feasible(primal_errors) and dual_is_feasible(dual_errors)):\n",
    "            gap_not_acceptable = False\n",
    "        else:\n",
    "            infeasible = True\n",
    "            \n",
    "    return (\n",
    "        solutions_list,\n",
    "        optimal_found,\n",
    "        infeasible,\n",
    "        unbounded,\n",
    "        gap_acceptable,\n",
    "        it_max_reached\n",
    "    )"
   ]
  },
  {
   "cell_type": "markdown",
   "id": "c3decd82",
   "metadata": {},
   "source": [
    "# Descrição das Entradas <a id=\"entradas\"></a>"
   ]
  },
  {
   "cell_type": "markdown",
   "id": "71f8cb7b",
   "metadata": {},
   "source": [
    "**problem_type**: se o problema de minização (min) ou maximização (max):"
   ]
  },
  {
   "cell_type": "markdown",
   "id": "53ff5d69",
   "metadata": {},
   "source": [
    "**input_costs**: vetor de custos (c)"
   ]
  },
  {
   "cell_type": "markdown",
   "id": "1f6b0264",
   "metadata": {},
   "source": [
    "**input_A**: matriz A"
   ]
  },
  {
   "cell_type": "markdown",
   "id": "5943241a",
   "metadata": {},
   "source": [
    "**operators**: operador de cada restrição (<=, >=, =)"
   ]
  },
  {
   "cell_type": "markdown",
   "id": "7514bc21",
   "metadata": {},
   "source": [
    "**b**: vetor de recursos (b)"
   ]
  },
  {
   "cell_type": "markdown",
   "id": "210373cf",
   "metadata": {},
   "source": [
    "**primal_sol**: solução inicial do primal"
   ]
  },
  {
   "cell_type": "markdown",
   "id": "987a1704",
   "metadata": {},
   "source": [
    "**dual_sol**: solução inicial do dual"
   ]
  },
  {
   "cell_type": "markdown",
   "id": "3a2fa80d",
   "metadata": {},
   "source": [
    "**dual_slacks_sol**: valores das folgas na solução dual"
   ]
  },
  {
   "cell_type": "markdown",
   "id": "421bd8b6",
   "metadata": {},
   "source": [
    "**Parâmetros de Entrada para o Algoritmo**\n",
    "\n",
    "alfa: parâmetro $\\alpha$\n",
    "\n",
    "beta: parâmetro $\\beta$\n",
    "\n",
    "it_max: limite de iterações ($K_{max}$)\n",
    "\n",
    "primal_max_error: erro máximo permitido para $Ax = b$ ($\\epsilon_{P}$)\n",
    "\n",
    "dual_max_error: erro máximo permitido para $A^{T}\\lambda + \\mu = c$ ($\\epsilon_{D}$)\n",
    "\n",
    "fo_gap_max_error: gap máximo para otimalidade ($f(x) - g(\\lambda)$) ($\\epsilon_{F}$)"
   ]
  },
  {
   "cell_type": "markdown",
   "id": "157a6f24",
   "metadata": {},
   "source": [
    "# Exemplos <a id=\"exemplos\"></a>"
   ]
  },
  {
   "cell_type": "markdown",
   "id": "cfcfacb1",
   "metadata": {},
   "source": [
    "## Exemplo 1 (Sem Restrição Artificial)"
   ]
  },
  {
   "cell_type": "markdown",
   "id": "22d27019",
   "metadata": {},
   "source": [
    "### Definição dos dados do modelo"
   ]
  },
  {
   "cell_type": "code",
   "execution_count": 18,
   "id": "a1181f67",
   "metadata": {},
   "outputs": [],
   "source": [
    "problem_type = \"min\"\n",
    "input_costs = [-1, -2]\n",
    "input_A = [\n",
    "    [1, 1],\n",
    "    [1, -1],\n",
    "    [-1, 1]\n",
    "]\n",
    "input_operators = [\"<\", \"<=\", \"<\"]\n",
    "input_b = [6, 4, 4]"
   ]
  },
  {
   "cell_type": "markdown",
   "id": "b4011a77",
   "metadata": {},
   "source": [
    "### Definição do Ponto Inicial (Primal, Dual e folas do dual)"
   ]
  },
  {
   "cell_type": "code",
   "execution_count": 19,
   "id": "76703744",
   "metadata": {},
   "outputs": [],
   "source": [
    "primal_sol = [1, 1, 4, 4, 4]\n",
    "dual_sol = [0, 0, 0]\n",
    "dual_slacks_sol = [1, 1, 1, 1, 1]"
   ]
  },
  {
   "cell_type": "markdown",
   "id": "4074af77",
   "metadata": {},
   "source": [
    "### Conversão para Formato Padrão <a id=\"conv_fp\"></a>"
   ]
  },
  {
   "cell_type": "code",
   "execution_count": 20,
   "id": "8f478f56",
   "metadata": {},
   "outputs": [],
   "source": [
    "primal_sol = numpy.array(primal_sol)\n",
    "dual_sol = numpy.array(dual_sol)\n",
    "dual_slacks_sol = numpy.array(dual_slacks_sol)\n",
    "\n",
    "A, c = convert_to_standard_form(problem_type, input_A, input_operators, input_costs)\n",
    "b = numpy.copy(input_b)\n",
    "\n",
    "n = len(A.T)\n",
    "m = len(A)"
   ]
  },
  {
   "cell_type": "markdown",
   "id": "521f5c04",
   "metadata": {},
   "source": [
    "### Definição dos parâmetros constantes ($\\alpha$, $\\beta$, $K_{max}$, $\\epsilon_{P}$, $\\epsilon_{D}$, $\\epsilon_{F}$):"
   ]
  },
  {
   "cell_type": "code",
   "execution_count": 21,
   "id": "76d0ef88",
   "metadata": {},
   "outputs": [],
   "source": [
    "alfa = 0.1\n",
    "beta = 0.995\n",
    "it_max = 10\n",
    "primal_max_error = 0.5 * 10**(-3)\n",
    "dual_max_error = 0.5 * 10**(-3)\n",
    "fo_gap_max_error = 0.5 * 10**(-3)"
   ]
  },
  {
   "cell_type": "markdown",
   "id": "d776839f",
   "metadata": {},
   "source": [
    "### Print das entradas"
   ]
  },
  {
   "cell_type": "markdown",
   "id": "62b87840",
   "metadata": {},
   "source": [
    "#### Modelo no formato padrão"
   ]
  },
  {
   "cell_type": "code",
   "execution_count": 22,
   "id": "925fc418",
   "metadata": {
    "scrolled": true
   },
   "outputs": [
    {
     "name": "stdout",
     "output_type": "stream",
     "text": [
      "********************************************************************************\n",
      "MODELO NA FORMA PADRÃO:\n",
      "min \t- 1x_1 - 2x_2 + 0x_3 + 0x_4 + 0x_5 \n",
      "Subject to:\n",
      "(1)\t+ 1.0x_1 + 1.0x_2 + 1.0x_3 + 0.0x_4 + 0.0x_5 = 6\n",
      "(2)\t+ 1.0x_1 - 1.0x_2 + 0.0x_3 + 1.0x_4 + 0.0x_5 = 4\n",
      "(3)\t- 1.0x_1 + 1.0x_2 + 0.0x_3 + 0.0x_4 + 1.0x_5 = 4\n",
      "\tx_1>=0, x_2>=0, x_3>=0, x_4>=0, x_5>=0\n",
      "********************************************************************************\n",
      "\n"
     ]
    }
   ],
   "source": [
    "print_model(A, b, c)"
   ]
  },
  {
   "cell_type": "markdown",
   "id": "1d227604",
   "metadata": {},
   "source": [
    "#### Valores da solução Inicial"
   ]
  },
  {
   "cell_type": "code",
   "execution_count": 23,
   "id": "2f08fbbf",
   "metadata": {
    "scrolled": false
   },
   "outputs": [
    {
     "name": "stdout",
     "output_type": "stream",
     "text": [
      "Solução inicial do primal: [1 1 4 4 4]\n",
      "Solução inicial do dual: [0 0 0]\n",
      "Folgas do dual: [1 1 1 1 1]\n"
     ]
    }
   ],
   "source": [
    "print(\"Solução inicial do primal:\", primal_sol)\n",
    "print(\"Solução inicial do dual:\", dual_sol)\n",
    "print(\"Folgas do dual:\", dual_slacks_sol)"
   ]
  },
  {
   "cell_type": "markdown",
   "id": "496af723",
   "metadata": {},
   "source": [
    "### Execução"
   ]
  },
  {
   "cell_type": "code",
   "execution_count": 24,
   "id": "f7c0fde3",
   "metadata": {},
   "outputs": [],
   "source": [
    "solutions_list, optimal_found, infeasible, unbounded, gap_acceptable, it_max_reached = solve(\n",
    "    A, \n",
    "    b, \n",
    "    c, \n",
    "    primal_sol, \n",
    "    dual_sol, \n",
    "    dual_slacks_sol, \n",
    "    alfa, \n",
    "    beta, \n",
    "    it_max, \n",
    "    primal_max_error, \n",
    "    dual_max_error, \n",
    "    fo_gap_max_error\n",
    ")"
   ]
  },
  {
   "cell_type": "markdown",
   "id": "cf84fee9",
   "metadata": {},
   "source": [
    "### Saídas"
   ]
  },
  {
   "cell_type": "code",
   "execution_count": 25,
   "id": "5615b341",
   "metadata": {},
   "outputs": [
    {
     "name": "stdout",
     "output_type": "stream",
     "text": [
      "SOLUÇÃO ÓTIMA ENCONTRADA\n"
     ]
    }
   ],
   "source": [
    "if (it_max_reached):\n",
    "    print(\"MÁXIMO DE ITERAÇÕES ALCANÇADAS\")\n",
    "    print(\"ÓTIMO = \", optimal_found)\n",
    "    print(\"ILIMITADA = \", unbounded)\n",
    "    print(\"INFACTÍVEL = \", infeasible)\n",
    "    print(\"ERRO DO GAP ACEITÁVEL = \", gap_acceptable)\n",
    "if (optimal_found):\n",
    "    print(\"SOLUÇÃO ÓTIMA ENCONTRADA\")\n",
    "elif (unbounded):\n",
    "    print(\"SOLUÇÃO ILIMITADA\")\n",
    "elif (infeasible):\n",
    "    print(\"SOLUÇÃO INFACTíVEL\")\n",
    "elif (not gap_acceptable):\n",
    "    print(\"PRIMAL E DUAL FACTÍVEIS.\")\n",
    "    print(\"ERRO DO GAP MAIOR QUE ACEITÀVEL.\")\n",
    "elif (not it_max_reached):\n",
    "    print(\"ERRO, SITUAÇÃO DA SOLUÇÃO NÃO IDENTIFICADA.\")\n",
    "    print(\"ÓTIMO = \", optimal_found)\n",
    "    print(\"ILIMITADA = \", unbounded)\n",
    "    print(\"INFACTÍVEL = \", infeasible)\n",
    "    print(\"ERRO DO GAP ACEITÁVEL = \", gap_acceptable)"
   ]
  },
  {
   "cell_type": "markdown",
   "id": "040a3601",
   "metadata": {},
   "source": [
    "#### Escrita do conjunto de todas as soluções"
   ]
  },
  {
   "cell_type": "code",
   "execution_count": 26,
   "id": "0142b00a",
   "metadata": {
    "scrolled": true
   },
   "outputs": [],
   "source": [
    "# # Print all solutions found\n",
    "# for i, solution in enumerate(solutions_list):\n",
    "#     print(\"---------\")\n",
    "#     print(\"k =\", i)\n",
    "#     print(json.dumps(solution, indent=4))"
   ]
  },
  {
   "cell_type": "markdown",
   "id": "e5aa2b30",
   "metadata": {},
   "source": [
    "#### Plot"
   ]
  },
  {
   "cell_type": "code",
   "execution_count": 27,
   "id": "ef10c90e",
   "metadata": {
    "scrolled": false
   },
   "outputs": [
    {
     "data": {
      "image/png": "[encoded data removed]",
      "text/plain": [
       "<Figure size 800x800 with 1 Axes>"
      ]
     },
     "metadata": {},
     "output_type": "display_data"
    }
   ],
   "source": [
    "plot_graph(input_A, input_b, input_operators, solutions_list, infeasible)"
   ]
  },
  {
   "cell_type": "markdown",
   "id": "29e27d01",
   "metadata": {},
   "source": [
    "## Exemplo 1 (Com Restrição Artificial)"
   ]
  },
  {
   "cell_type": "markdown",
   "id": "d2b39b32",
   "metadata": {},
   "source": [
    "### Definição dos dados do modelo"
   ]
  },
  {
   "cell_type": "code",
   "execution_count": 28,
   "id": "6d735f65",
   "metadata": {},
   "outputs": [],
   "source": [
    "problem_type = \"min\"\n",
    "input_costs = [-1, -2]\n",
    "input_A = [\n",
    "    [1, 1],\n",
    "    [1, -1],\n",
    "    [-1, 1]\n",
    "]\n",
    "input_operators = [\"<\", \"<=\", \"<\"]\n",
    "input_b = [6, 4, 4]"
   ]
  },
  {
   "cell_type": "markdown",
   "id": "ab1204e1",
   "metadata": {},
   "source": [
    "### Definição do Ponto Inicial (Primal, Dual e folas do dual)"
   ]
  },
  {
   "cell_type": "code",
   "execution_count": 29,
   "id": "69ce2084",
   "metadata": {},
   "outputs": [],
   "source": [
    "primal_sol = [1, 1, 4, 4, 4]\n",
    "dual_sol = [0, 0, 0]\n",
    "dual_slacks_sol = [1, 1, 1, 1, 1]"
   ]
  },
  {
   "cell_type": "markdown",
   "id": "4d441f50",
   "metadata": {},
   "source": [
    "### Conversão para Formato Padrão <a id=\"conv_fp\"></a>"
   ]
  },
  {
   "cell_type": "code",
   "execution_count": 30,
   "id": "50a020e1",
   "metadata": {},
   "outputs": [],
   "source": [
    "artificial_A, artificial_b, artificial_c, artificial_operators = add_artificial_constraint(\n",
    "    input_A, \n",
    "    input_b, \n",
    "    input_costs, \n",
    "    input_operators\n",
    ")\n",
    "# Valor da variável de folga primal referente à restrição artificial\n",
    "primal_sol.append(1)\n",
    "# Valor da variável dual referente à restrição artificial\n",
    "dual_sol.append(0)\n",
    "# Valor da variável de folga dual referente à restrição artificial\n",
    "dual_slacks_sol.append(1)\n",
    "\n",
    "primal_sol = numpy.array(primal_sol)\n",
    "dual_sol = numpy.array(dual_sol)\n",
    "dual_slacks_sol = numpy.array(dual_slacks_sol)\n",
    "\n",
    "A, c = convert_to_standard_form(problem_type, artificial_A, artificial_operators, artificial_c)\n",
    "b = numpy.copy(artificial_b)\n",
    "\n",
    "n = len(A.T)\n",
    "m = len(A)"
   ]
  },
  {
   "cell_type": "markdown",
   "id": "516d9cd8",
   "metadata": {},
   "source": [
    "### Definição dos parâmetros constantes ($\\alpha$, $\\beta$, $K_{max}$, $\\epsilon_{P}$, $\\epsilon_{D}$, $\\epsilon_{F}$):"
   ]
  },
  {
   "cell_type": "code",
   "execution_count": 31,
   "id": "518df1e0",
   "metadata": {},
   "outputs": [],
   "source": [
    "alfa = 0.1\n",
    "beta = 0.995\n",
    "it_max = 20\n",
    "primal_max_error = 0.5 * 10**(-3)\n",
    "dual_max_error = 0.5 * 10**(-3)\n",
    "fo_gap_max_error = 0.5 * 10**(-3)"
   ]
  },
  {
   "cell_type": "markdown",
   "id": "a96f3c0a",
   "metadata": {},
   "source": [
    "### Print das entradas"
   ]
  },
  {
   "cell_type": "markdown",
   "id": "6778e65f",
   "metadata": {},
   "source": [
    "#### Modelo no formato padrão"
   ]
  },
  {
   "cell_type": "code",
   "execution_count": 32,
   "id": "81ea2123",
   "metadata": {
    "scrolled": true
   },
   "outputs": [
    {
     "name": "stdout",
     "output_type": "stream",
     "text": [
      "********************************************************************************\n",
      "MODELO NA FORMA PADRÃO:\n",
      "min \t- 1x_1 - 2x_2 + 0x_3 + 0x_4 + 0x_5 + 0x_6 \n",
      "Subject to:\n",
      "(1)\t+ 1.0x_1 + 1.0x_2 + 1.0x_3 + 0.0x_4 + 0.0x_5 + 0.0x_6 = 6\n",
      "(2)\t+ 1.0x_1 - 1.0x_2 + 0.0x_3 + 1.0x_4 + 0.0x_5 + 0.0x_6 = 4\n",
      "(3)\t- 1.0x_1 + 1.0x_2 + 0.0x_3 + 0.0x_4 + 1.0x_5 + 0.0x_6 = 4\n",
      "(4)\t+ 1.0x_1 + 1.0x_2 + 0.0x_3 + 0.0x_4 + 0.0x_5 + 1.0x_6 = 18\n",
      "\tx_1>=0, x_2>=0, x_3>=0, x_4>=0, x_5>=0, x_6>=0\n",
      "********************************************************************************\n",
      "\n"
     ]
    }
   ],
   "source": [
    "print_model(A, b, c)"
   ]
  },
  {
   "cell_type": "markdown",
   "id": "bcbc082b",
   "metadata": {},
   "source": [
    "#### Valores da solução Inicial"
   ]
  },
  {
   "cell_type": "code",
   "execution_count": 33,
   "id": "f5bce863",
   "metadata": {
    "scrolled": false
   },
   "outputs": [
    {
     "name": "stdout",
     "output_type": "stream",
     "text": [
      "Solução inicial do primal: [1 1 4 4 4 1]\n",
      "Solução inicial do dual: [0 0 0 0]\n",
      "Folgas do dual: [1 1 1 1 1 1]\n"
     ]
    }
   ],
   "source": [
    "print(\"Solução inicial do primal:\", primal_sol)\n",
    "print(\"Solução inicial do dual:\", dual_sol)\n",
    "print(\"Folgas do dual:\", dual_slacks_sol)"
   ]
  },
  {
   "cell_type": "markdown",
   "id": "3bbab821",
   "metadata": {},
   "source": [
    "### Execução"
   ]
  },
  {
   "cell_type": "code",
   "execution_count": 34,
   "id": "09a57721",
   "metadata": {},
   "outputs": [],
   "source": [
    "solutions_list, optimal_found, infeasible, unbounded, gap_acceptable, it_max_reached = solve(\n",
    "    A, \n",
    "    b, \n",
    "    c, \n",
    "    primal_sol, \n",
    "    dual_sol, \n",
    "    dual_slacks_sol, \n",
    "    alfa, \n",
    "    beta, \n",
    "    it_max, \n",
    "    primal_max_error, \n",
    "    dual_max_error, \n",
    "    fo_gap_max_error\n",
    ")"
   ]
  },
  {
   "cell_type": "markdown",
   "id": "e89339c5",
   "metadata": {},
   "source": [
    "### Saídas"
   ]
  },
  {
   "cell_type": "code",
   "execution_count": 35,
   "id": "bc77e75d",
   "metadata": {},
   "outputs": [
    {
     "name": "stdout",
     "output_type": "stream",
     "text": [
      "SOLUÇÃO ÓTIMA ENCONTRADA\n"
     ]
    }
   ],
   "source": [
    "if (it_max_reached):\n",
    "    print(\"MÁXIMO DE ITERAÇÕES ALCANÇADAS\")\n",
    "    print(\"ÓTIMO = \", optimal_found)\n",
    "    print(\"ILIMITADA = \", unbounded)\n",
    "    print(\"INFACTÍVEL = \", infeasible)\n",
    "    print(\"ERRO DO GAP ACEITÁVEL = \", gap_acceptable)\n",
    "if (optimal_found):\n",
    "    print(\"SOLUÇÃO ÓTIMA ENCONTRADA\")\n",
    "elif (unbounded):\n",
    "    print(\"SOLUÇÃO ILIMITADA\")\n",
    "elif (infeasible):\n",
    "    print(\"SOLUÇÃO INFACTíVEL\")\n",
    "elif (not gap_acceptable):\n",
    "    print(\"PRIMAL E DUAL FACTÍVEIS.\")\n",
    "    print(\"ERRO DO GAP MAIOR QUE ACEITÀVEL.\")\n",
    "elif (not it_max_reached):\n",
    "    print(\"ERRO, SITUAÇÃO DA SOLUÇÃO NÃO IDENTIFICADA.\")\n",
    "    print(\"ÓTIMO = \", optimal_found)\n",
    "    print(\"ILIMITADA = \", unbounded)\n",
    "    print(\"INFACTÍVEL = \", infeasible)\n",
    "    print(\"ERRO DO GAP ACEITÁVEL = \", gap_acceptable)"
   ]
  },
  {
   "cell_type": "markdown",
   "id": "90593b56",
   "metadata": {},
   "source": [
    "#### Escrita do conjunto de todas as soluções"
   ]
  },
  {
   "cell_type": "code",
   "execution_count": 36,
   "id": "8b0387a4",
   "metadata": {
    "scrolled": true
   },
   "outputs": [],
   "source": [
    "# # Print all solutions found\n",
    "# for i, solution in enumerate(solutions_list):\n",
    "#     print(\"---------\")\n",
    "#     print(\"k =\", i)\n",
    "#     print(json.dumps(solution, indent=4))"
   ]
  },
  {
   "cell_type": "markdown",
   "id": "a4115abf",
   "metadata": {},
   "source": [
    "#### Plot"
   ]
  },
  {
   "cell_type": "code",
   "execution_count": 37,
   "id": "8eb430da",
   "metadata": {
    "scrolled": false
   },
   "outputs": [
    {
     "data": {
      "image/png": "[encoded data removed]",
      "text/plain": [
       "<Figure size 800x800 with 1 Axes>"
      ]
     },
     "metadata": {},
     "output_type": "display_data"
    }
   ],
   "source": [
    "plot_graph(artificial_A, artificial_b, artificial_operators, solutions_list, infeasible)"
   ]
  },
  {
   "cell_type": "markdown",
   "id": "4589114a",
   "metadata": {},
   "source": [
    "## Exemplo 2 (Sem Restrição Artificial -- 6 iterações)"
   ]
  },
  {
   "cell_type": "markdown",
   "id": "7359b7e9",
   "metadata": {},
   "source": [
    "### Definição dos dados do modelo"
   ]
  },
  {
   "cell_type": "code",
   "execution_count": 38,
   "id": "b0eab2f1",
   "metadata": {},
   "outputs": [],
   "source": [
    "problem_type = \"min\"\n",
    "input_costs = [-1, -1]\n",
    "input_A = [\n",
    "    [1, -1],\n",
    "    [-1, 1]\n",
    "]\n",
    "input_operators = [\"<=\", \"<=\"]\n",
    "input_b = [4, 4]"
   ]
  },
  {
   "cell_type": "markdown",
   "id": "f0fab6e2",
   "metadata": {},
   "source": [
    "### Definição do Ponto Inicial (Primal, Dual e folas do dual)"
   ]
  },
  {
   "cell_type": "code",
   "execution_count": 39,
   "id": "a78f4a3e",
   "metadata": {},
   "outputs": [],
   "source": [
    "primal_sol = [1, 1, 4, 4]\n",
    "dual_sol = [0, 0]\n",
    "dual_slacks_sol = [1, 1, 1, 1]"
   ]
  },
  {
   "cell_type": "markdown",
   "id": "e15757dc",
   "metadata": {},
   "source": [
    "### Conversão para Formato Padrão <a id=\"conv_fp\"></a>"
   ]
  },
  {
   "cell_type": "code",
   "execution_count": 40,
   "id": "7de9873d",
   "metadata": {},
   "outputs": [],
   "source": [
    "primal_sol = numpy.array(primal_sol)\n",
    "dual_sol = numpy.array(dual_sol)\n",
    "dual_slacks_sol = numpy.array(dual_slacks_sol)\n",
    "\n",
    "A, c = convert_to_standard_form(problem_type, input_A, input_operators, input_costs)\n",
    "b = numpy.copy(input_b)\n",
    "\n",
    "n = len(A.T)\n",
    "m = len(A)"
   ]
  },
  {
   "cell_type": "markdown",
   "id": "9bf7ff1e",
   "metadata": {},
   "source": [
    "### Definição dos parâmetros constantes ($\\alpha$, $\\beta$, $K_{max}$, $\\epsilon_{P}$, $\\epsilon_{D}$, $\\epsilon_{F}$):"
   ]
  },
  {
   "cell_type": "code",
   "execution_count": 41,
   "id": "a31ef101",
   "metadata": {},
   "outputs": [],
   "source": [
    "alfa = 0.1\n",
    "beta = 0.995\n",
    "it_max = 6\n",
    "primal_max_error = 0.5 * 10**(-3)\n",
    "dual_max_error = 0.5 * 10**(-3)\n",
    "fo_gap_max_error = 0.5 * 10**(-3)"
   ]
  },
  {
   "cell_type": "markdown",
   "id": "94cb099a",
   "metadata": {},
   "source": [
    "### Print das entradas"
   ]
  },
  {
   "cell_type": "markdown",
   "id": "e52a4d2a",
   "metadata": {},
   "source": [
    "#### Modelo no formato padrão"
   ]
  },
  {
   "cell_type": "code",
   "execution_count": 42,
   "id": "7524c05c",
   "metadata": {
    "scrolled": true
   },
   "outputs": [
    {
     "name": "stdout",
     "output_type": "stream",
     "text": [
      "********************************************************************************\n",
      "MODELO NA FORMA PADRÃO:\n",
      "min \t- 1x_1 - 1x_2 + 0x_3 + 0x_4 \n",
      "Subject to:\n",
      "(1)\t+ 1.0x_1 - 1.0x_2 + 1.0x_3 + 0.0x_4 = 4\n",
      "(2)\t- 1.0x_1 + 1.0x_2 + 0.0x_3 + 1.0x_4 = 4\n",
      "\tx_1>=0, x_2>=0, x_3>=0, x_4>=0\n",
      "********************************************************************************\n",
      "\n"
     ]
    }
   ],
   "source": [
    "print_model(A, b, c)"
   ]
  },
  {
   "cell_type": "markdown",
   "id": "205f0815",
   "metadata": {},
   "source": [
    "#### Valores da solução Inicial"
   ]
  },
  {
   "cell_type": "code",
   "execution_count": 43,
   "id": "12fbbd28",
   "metadata": {
    "scrolled": false
   },
   "outputs": [
    {
     "name": "stdout",
     "output_type": "stream",
     "text": [
      "Solução inicial do primal: [1 1 4 4]\n",
      "Solução inicial do dual: [0 0]\n",
      "Folgas do dual: [1 1 1 1]\n"
     ]
    }
   ],
   "source": [
    "print(\"Solução inicial do primal:\", primal_sol)\n",
    "print(\"Solução inicial do dual:\", dual_sol)\n",
    "print(\"Folgas do dual:\", dual_slacks_sol)"
   ]
  },
  {
   "cell_type": "markdown",
   "id": "7c4f43f5",
   "metadata": {},
   "source": [
    "### Execução"
   ]
  },
  {
   "cell_type": "code",
   "execution_count": 44,
   "id": "5d0971cb",
   "metadata": {},
   "outputs": [],
   "source": [
    "solutions_list, optimal_found, infeasible, unbounded, gap_acceptable, it_max_reached = solve(\n",
    "    A, \n",
    "    b, \n",
    "    c, \n",
    "    primal_sol, \n",
    "    dual_sol, \n",
    "    dual_slacks_sol, \n",
    "    alfa, \n",
    "    beta, \n",
    "    it_max, \n",
    "    primal_max_error, \n",
    "    dual_max_error, \n",
    "    fo_gap_max_error\n",
    ")"
   ]
  },
  {
   "cell_type": "markdown",
   "id": "6a3deeef",
   "metadata": {},
   "source": [
    "### Saídas"
   ]
  },
  {
   "cell_type": "code",
   "execution_count": 45,
   "id": "221be555",
   "metadata": {},
   "outputs": [
    {
     "name": "stdout",
     "output_type": "stream",
     "text": [
      "MÁXIMO DE ITERAÇÕES ALCANÇADAS\n",
      "ÓTIMO =  False\n",
      "ILIMITADA =  True\n",
      "INFACTÍVEL =  False\n",
      "ERRO DO GAP ACEITÁVEL =  True\n",
      "SOLUÇÃO ILIMITADA\n"
     ]
    }
   ],
   "source": [
    "if (it_max_reached):\n",
    "    print(\"MÁXIMO DE ITERAÇÕES ALCANÇADAS\")\n",
    "    print(\"ÓTIMO = \", optimal_found)\n",
    "    print(\"ILIMITADA = \", unbounded)\n",
    "    print(\"INFACTÍVEL = \", infeasible)\n",
    "    print(\"ERRO DO GAP ACEITÁVEL = \", gap_acceptable)\n",
    "if (optimal_found):\n",
    "    print(\"SOLUÇÃO ÓTIMA ENCONTRADA\")\n",
    "elif (unbounded):\n",
    "    print(\"SOLUÇÃO ILIMITADA\")\n",
    "elif (infeasible):\n",
    "    print(\"SOLUÇÃO INFACTíVEL\")\n",
    "elif (not gap_acceptable):\n",
    "    print(\"PRIMAL E DUAL FACTÍVEIS.\")\n",
    "    print(\"ERRO DO GAP MAIOR QUE ACEITÀVEL.\")\n",
    "elif (not it_max_reached):\n",
    "    print(\"ERRO, SITUAÇÃO DA SOLUÇÃO NÃO IDENTIFICADA.\")\n",
    "    print(\"ÓTIMO = \", optimal_found)\n",
    "    print(\"ILIMITADA = \", unbounded)\n",
    "    print(\"INFACTÍVEL = \", infeasible)\n",
    "    print(\"ERRO DO GAP ACEITÁVEL = \", gap_acceptable)"
   ]
  },
  {
   "cell_type": "markdown",
   "id": "a3332ba9",
   "metadata": {},
   "source": [
    "#### Escrita do conjunto de todas as soluções"
   ]
  },
  {
   "cell_type": "code",
   "execution_count": 46,
   "id": "97b0e910",
   "metadata": {
    "scrolled": true
   },
   "outputs": [],
   "source": [
    "# # Print all solutions found\n",
    "# for i, solution in enumerate(solutions_list):\n",
    "#     print(\"---------\")\n",
    "#     print(\"k =\", i)\n",
    "#     print(json.dumps(solution, indent=4))"
   ]
  },
  {
   "cell_type": "markdown",
   "id": "6888137a",
   "metadata": {},
   "source": [
    "#### Plot"
   ]
  },
  {
   "cell_type": "code",
   "execution_count": 47,
   "id": "f5611b9e",
   "metadata": {
    "scrolled": false
   },
   "outputs": [
    {
     "data": {
      "image/png": "[encoded data removed]",
      "text/plain": [
       "<Figure size 800x800 with 1 Axes>"
      ]
     },
     "metadata": {},
     "output_type": "display_data"
    }
   ],
   "source": [
    "plot_graph(input_A, input_b, input_operators, solutions_list, infeasible)"
   ]
  },
  {
   "cell_type": "markdown",
   "id": "364b74e6",
   "metadata": {},
   "source": [
    "## Exemplo 2 (Com Restrição Artificial)"
   ]
  },
  {
   "cell_type": "markdown",
   "id": "c0199377",
   "metadata": {},
   "source": [
    "### Definição dos dados do modelo"
   ]
  },
  {
   "cell_type": "code",
   "execution_count": 48,
   "id": "7e593d7a",
   "metadata": {},
   "outputs": [],
   "source": [
    "problem_type = \"min\"\n",
    "input_costs = [-1, -1]\n",
    "input_A = [\n",
    "    [1, -1],\n",
    "    [-1, 1]\n",
    "]\n",
    "input_operators = [\"<=\", \"<=\"]\n",
    "input_b = [4, 4]"
   ]
  },
  {
   "cell_type": "markdown",
   "id": "d94a96cb",
   "metadata": {},
   "source": [
    "### Definição do Ponto Inicial (Primal, Dual e folas do dual)"
   ]
  },
  {
   "cell_type": "code",
   "execution_count": 49,
   "id": "dc0df8b7",
   "metadata": {},
   "outputs": [],
   "source": [
    "primal_sol = [1, 1, 4, 4]\n",
    "dual_sol = [0, 0]\n",
    "dual_slacks_sol = [1, 1, 1, 1]"
   ]
  },
  {
   "cell_type": "markdown",
   "id": "71edd73b",
   "metadata": {},
   "source": [
    "### Conversão para Formato Padrão <a id=\"conv_fp\"></a>"
   ]
  },
  {
   "cell_type": "code",
   "execution_count": 50,
   "id": "13c7e40c",
   "metadata": {},
   "outputs": [],
   "source": [
    "artificial_A, artificial_b, artificial_c, artificial_operators = add_artificial_constraint(\n",
    "    input_A, \n",
    "    input_b, \n",
    "    input_costs, \n",
    "    input_operators\n",
    ")\n",
    "# Valor da variável de folga primal referente à restrição artificial\n",
    "primal_sol.append(1)\n",
    "# Valor da variável dual referente à restrição artificial\n",
    "dual_sol.append(0)\n",
    "# Valor da variável de folga dual referente à restrição artificial\n",
    "dual_slacks_sol.append(1)\n",
    "\n",
    "primal_sol = numpy.array(primal_sol)\n",
    "dual_sol = numpy.array(dual_sol)\n",
    "dual_slacks_sol = numpy.array(dual_slacks_sol)\n",
    "\n",
    "A, c = convert_to_standard_form(problem_type, artificial_A, artificial_operators, artificial_c)\n",
    "b = numpy.copy(artificial_b)\n",
    "\n",
    "n = len(A.T)\n",
    "m = len(A)"
   ]
  },
  {
   "cell_type": "markdown",
   "id": "f8ee84bb",
   "metadata": {},
   "source": [
    "### Definição dos parâmetros constantes ($\\alpha$, $\\beta$, $K_{max}$, $\\epsilon_{P}$, $\\epsilon_{D}$, $\\epsilon_{F}$):"
   ]
  },
  {
   "cell_type": "code",
   "execution_count": 51,
   "id": "d822ca2e",
   "metadata": {},
   "outputs": [],
   "source": [
    "alfa = 0.1\n",
    "beta = 0.995\n",
    "it_max = 10\n",
    "primal_max_error = 0.5 * 10**(-3)\n",
    "dual_max_error = 0.5 * 10**(-3)\n",
    "fo_gap_max_error = 0.5 * 10**(-3)"
   ]
  },
  {
   "cell_type": "markdown",
   "id": "4894a193",
   "metadata": {},
   "source": [
    "### Print das entradas"
   ]
  },
  {
   "cell_type": "markdown",
   "id": "0518f9db",
   "metadata": {},
   "source": [
    "#### Modelo no formato padrão"
   ]
  },
  {
   "cell_type": "code",
   "execution_count": 52,
   "id": "e888dc52",
   "metadata": {
    "scrolled": true
   },
   "outputs": [
    {
     "name": "stdout",
     "output_type": "stream",
     "text": [
      "********************************************************************************\n",
      "MODELO NA FORMA PADRÃO:\n",
      "min \t- 1x_1 - 1x_2 + 0x_3 + 0x_4 + 0x_5 \n",
      "Subject to:\n",
      "(1)\t+ 1.0x_1 - 1.0x_2 + 1.0x_3 + 0.0x_4 + 0.0x_5 = 4\n",
      "(2)\t- 1.0x_1 + 1.0x_2 + 0.0x_3 + 1.0x_4 + 0.0x_5 = 4\n",
      "(3)\t+ 1.0x_1 + 1.0x_2 + 0.0x_3 + 0.0x_4 + 1.0x_5 = 8\n",
      "\tx_1>=0, x_2>=0, x_3>=0, x_4>=0, x_5>=0\n",
      "********************************************************************************\n",
      "\n"
     ]
    }
   ],
   "source": [
    "print_model(A, b, c)"
   ]
  },
  {
   "cell_type": "markdown",
   "id": "c7acd168",
   "metadata": {},
   "source": [
    "#### Valores da solução Inicial"
   ]
  },
  {
   "cell_type": "code",
   "execution_count": 53,
   "id": "5c5858f3",
   "metadata": {
    "scrolled": false
   },
   "outputs": [
    {
     "name": "stdout",
     "output_type": "stream",
     "text": [
      "Solução inicial do primal: [1 1 4 4 1]\n",
      "Solução inicial do dual: [0 0 0]\n",
      "Folgas do dual: [1 1 1 1 1]\n"
     ]
    }
   ],
   "source": [
    "print(\"Solução inicial do primal:\", primal_sol)\n",
    "print(\"Solução inicial do dual:\", dual_sol)\n",
    "print(\"Folgas do dual:\", dual_slacks_sol)"
   ]
  },
  {
   "cell_type": "markdown",
   "id": "0cd4ad5d",
   "metadata": {},
   "source": [
    "### Execução"
   ]
  },
  {
   "cell_type": "code",
   "execution_count": 54,
   "id": "680be8a9",
   "metadata": {},
   "outputs": [],
   "source": [
    "solutions_list, optimal_found, infeasible, unbounded, gap_acceptable, it_max_reached = solve(\n",
    "    A, \n",
    "    b, \n",
    "    c, \n",
    "    primal_sol, \n",
    "    dual_sol, \n",
    "    dual_slacks_sol, \n",
    "    alfa, \n",
    "    beta, \n",
    "    it_max, \n",
    "    primal_max_error, \n",
    "    dual_max_error, \n",
    "    fo_gap_max_error\n",
    ")"
   ]
  },
  {
   "cell_type": "markdown",
   "id": "1289bbc7",
   "metadata": {},
   "source": [
    "### Saídas"
   ]
  },
  {
   "cell_type": "code",
   "execution_count": 55,
   "id": "e3fe61ec",
   "metadata": {},
   "outputs": [
    {
     "name": "stdout",
     "output_type": "stream",
     "text": [
      "SOLUÇÃO ÓTIMA ENCONTRADA\n"
     ]
    }
   ],
   "source": [
    "if (it_max_reached):\n",
    "    print(\"MÁXIMO DE ITERAÇÕES ALCANÇADAS\")\n",
    "    print(\"ÓTIMO = \", optimal_found)\n",
    "    print(\"ILIMITADA = \", unbounded)\n",
    "    print(\"INFACTÍVEL = \", infeasible)\n",
    "    print(\"ERRO DO GAP ACEITÁVEL = \", gap_acceptable)\n",
    "if (optimal_found):\n",
    "    print(\"SOLUÇÃO ÓTIMA ENCONTRADA\")\n",
    "elif (unbounded):\n",
    "    print(\"SOLUÇÃO ILIMITADA\")\n",
    "elif (infeasible):\n",
    "    print(\"SOLUÇÃO INFACTíVEL\")\n",
    "elif (not gap_acceptable):\n",
    "    print(\"PRIMAL E DUAL FACTÍVEIS.\")\n",
    "    print(\"ERRO DO GAP MAIOR QUE ACEITÀVEL.\")\n",
    "elif (not it_max_reached):\n",
    "    print(\"ERRO, SITUAÇÃO DA SOLUÇÃO NÃO IDENTIFICADA.\")\n",
    "    print(\"ÓTIMO = \", optimal_found)\n",
    "    print(\"ILIMITADA = \", unbounded)\n",
    "    print(\"INFACTÍVEL = \", infeasible)\n",
    "    print(\"ERRO DO GAP ACEITÁVEL = \", gap_acceptable)"
   ]
  },
  {
   "cell_type": "markdown",
   "id": "3f5d78c2",
   "metadata": {},
   "source": [
    "#### Escrita do conjunto de todas as soluções"
   ]
  },
  {
   "cell_type": "code",
   "execution_count": 56,
   "id": "75cc9924",
   "metadata": {
    "scrolled": true
   },
   "outputs": [],
   "source": [
    "# # Print all solutions found\n",
    "# for i, solution in enumerate(solutions_list):\n",
    "#     print(\"---------\")\n",
    "#     print(\"k =\", i)\n",
    "#     print(json.dumps(solution, indent=4))"
   ]
  },
  {
   "cell_type": "markdown",
   "id": "6ddd7ba2",
   "metadata": {},
   "source": [
    "#### Plot"
   ]
  },
  {
   "cell_type": "code",
   "execution_count": 57,
   "id": "4697089b",
   "metadata": {
    "scrolled": false
   },
   "outputs": [
    {
     "data": {
      "image/png": "[encoded data removed]",
      "text/plain": [
       "<Figure size 800x800 with 1 Axes>"
      ]
     },
     "metadata": {},
     "output_type": "display_data"
    }
   ],
   "source": [
    "plot_graph(artificial_A, artificial_b, artificial_operators, solutions_list, infeasible)"
   ]
  },
  {
   "cell_type": "markdown",
   "id": "18efe9de",
   "metadata": {},
   "source": [
    "## Exemplo 3 (Sem Restrição Artificial)"
   ]
  },
  {
   "cell_type": "markdown",
   "id": "43bbce87",
   "metadata": {},
   "source": [
    "### Definição dos dados do modelo"
   ]
  },
  {
   "cell_type": "code",
   "execution_count": 58,
   "id": "3822b15a",
   "metadata": {},
   "outputs": [],
   "source": [
    "problem_type = \"min\"\n",
    "\n",
    "input_costs = [1, 1]\n",
    "\n",
    "input_A = [\n",
    "    [1, 1],\n",
    "    [2, 1]\n",
    "]\n",
    "\n",
    "input_operators = [\">=\", \"<=\"]\n",
    "\n",
    "input_b = [4, 3]"
   ]
  },
  {
   "cell_type": "markdown",
   "id": "d72ae131",
   "metadata": {},
   "source": [
    "### Definição do Ponto Inicial (Primal, Dual e folas do dual)"
   ]
  },
  {
   "cell_type": "code",
   "execution_count": 59,
   "id": "b4ab028d",
   "metadata": {},
   "outputs": [],
   "source": [
    "primal_sol = [1, 1, 4, 4]\n",
    "dual_sol = [0, 0]\n",
    "dual_slacks_sol = [1, 1, 1, 1]"
   ]
  },
  {
   "cell_type": "markdown",
   "id": "a75bc585",
   "metadata": {},
   "source": [
    "### Conversão para Formato Padrão <a id=\"conv_fp\"></a>"
   ]
  },
  {
   "cell_type": "code",
   "execution_count": 60,
   "id": "60b2b0a3",
   "metadata": {},
   "outputs": [],
   "source": [
    "primal_sol = numpy.array(primal_sol)\n",
    "dual_sol = numpy.array(dual_sol)\n",
    "dual_slacks_sol = numpy.array(dual_slacks_sol)\n",
    "\n",
    "A, c = convert_to_standard_form(problem_type, input_A, input_operators, input_costs)\n",
    "b = numpy.copy(input_b)\n",
    "\n",
    "n = len(A.T)\n",
    "m = len(A)"
   ]
  },
  {
   "cell_type": "markdown",
   "id": "0f17c7ed",
   "metadata": {},
   "source": [
    "### Definição dos parâmetros constantes ($\\alpha$, $\\beta$, $K_{max}$, $\\epsilon_{P}$, $\\epsilon_{D}$, $\\epsilon_{F}$):"
   ]
  },
  {
   "cell_type": "code",
   "execution_count": 61,
   "id": "4c8aae80",
   "metadata": {},
   "outputs": [],
   "source": [
    "alfa = 0.1\n",
    "beta = 0.995\n",
    "it_max = 10\n",
    "primal_max_error = 0.5 * 10**(-3)\n",
    "dual_max_error = 0.5 * 10**(-3)\n",
    "fo_gap_max_error = 0.5 * 10**(-3)"
   ]
  },
  {
   "cell_type": "markdown",
   "id": "3e7a7802",
   "metadata": {},
   "source": [
    "### Print das entradas"
   ]
  },
  {
   "cell_type": "markdown",
   "id": "bf3ade1e",
   "metadata": {},
   "source": [
    "#### Modelo no formato padrão"
   ]
  },
  {
   "cell_type": "code",
   "execution_count": 62,
   "id": "bfe9f611",
   "metadata": {
    "scrolled": true
   },
   "outputs": [
    {
     "name": "stdout",
     "output_type": "stream",
     "text": [
      "********************************************************************************\n",
      "MODELO NA FORMA PADRÃO:\n",
      "min \t+ 1x_1 + 1x_2 + 0x_3 + 0x_4 \n",
      "Subject to:\n",
      "(1)\t+ 1.0x_1 + 1.0x_2 - 1.0x_3 + 0.0x_4 = 4\n",
      "(2)\t+ 2.0x_1 + 1.0x_2 + 0.0x_3 + 1.0x_4 = 3\n",
      "\tx_1>=0, x_2>=0, x_3>=0, x_4>=0\n",
      "********************************************************************************\n",
      "\n"
     ]
    }
   ],
   "source": [
    "print_model(A, b, c)"
   ]
  },
  {
   "cell_type": "markdown",
   "id": "8404425f",
   "metadata": {},
   "source": [
    "#### Valores da solução Inicial"
   ]
  },
  {
   "cell_type": "code",
   "execution_count": 63,
   "id": "a1a33e20",
   "metadata": {
    "scrolled": false
   },
   "outputs": [
    {
     "name": "stdout",
     "output_type": "stream",
     "text": [
      "Solução inicial do primal: [1 1 4 4]\n",
      "Solução inicial do dual: [0 0]\n",
      "Folgas do dual: [1 1 1 1]\n"
     ]
    }
   ],
   "source": [
    "print(\"Solução inicial do primal:\", primal_sol)\n",
    "print(\"Solução inicial do dual:\", dual_sol)\n",
    "print(\"Folgas do dual:\", dual_slacks_sol)"
   ]
  },
  {
   "cell_type": "markdown",
   "id": "c161f583",
   "metadata": {},
   "source": [
    "### Execução"
   ]
  },
  {
   "cell_type": "code",
   "execution_count": 64,
   "id": "10184274",
   "metadata": {},
   "outputs": [],
   "source": [
    "solutions_list, optimal_found, infeasible, unbounded, gap_acceptable, it_max_reached = solve(\n",
    "    A, \n",
    "    b, \n",
    "    c, \n",
    "    primal_sol, \n",
    "    dual_sol, \n",
    "    dual_slacks_sol, \n",
    "    alfa, \n",
    "    beta, \n",
    "    it_max, \n",
    "    primal_max_error, \n",
    "    dual_max_error, \n",
    "    fo_gap_max_error\n",
    ")"
   ]
  },
  {
   "cell_type": "markdown",
   "id": "59a31515",
   "metadata": {},
   "source": [
    "### Saídas"
   ]
  },
  {
   "cell_type": "code",
   "execution_count": 65,
   "id": "58bfb50f",
   "metadata": {},
   "outputs": [
    {
     "name": "stdout",
     "output_type": "stream",
     "text": [
      "MÁXIMO DE ITERAÇÕES ALCANÇADAS\n",
      "ÓTIMO =  False\n",
      "ILIMITADA =  False\n",
      "INFACTÍVEL =  True\n",
      "ERRO DO GAP ACEITÁVEL =  True\n",
      "SOLUÇÃO INFACTíVEL\n"
     ]
    }
   ],
   "source": [
    "if (it_max_reached):\n",
    "    print(\"MÁXIMO DE ITERAÇÕES ALCANÇADAS\")\n",
    "    print(\"ÓTIMO = \", optimal_found)\n",
    "    print(\"ILIMITADA = \", unbounded)\n",
    "    print(\"INFACTÍVEL = \", infeasible)\n",
    "    print(\"ERRO DO GAP ACEITÁVEL = \", gap_acceptable)\n",
    "if (optimal_found):\n",
    "    print(\"SOLUÇÃO ÓTIMA ENCONTRADA\")\n",
    "elif (unbounded):\n",
    "    print(\"SOLUÇÃO ILIMITADA\")\n",
    "elif (infeasible):\n",
    "    print(\"SOLUÇÃO INFACTíVEL\")\n",
    "elif (not gap_acceptable):\n",
    "    print(\"PRIMAL E DUAL FACTÍVEIS.\")\n",
    "    print(\"ERRO DO GAP MAIOR QUE ACEITÀVEL.\")\n",
    "elif (not it_max_reached):\n",
    "    print(\"ERRO, SITUAÇÃO DA SOLUÇÃO NÃO IDENTIFICADA.\")\n",
    "    print(\"ÓTIMO = \", optimal_found)\n",
    "    print(\"ILIMITADA = \", unbounded)\n",
    "    print(\"INFACTÍVEL = \", infeasible)\n",
    "    print(\"ERRO DO GAP ACEITÁVEL = \", gap_acceptable)"
   ]
  },
  {
   "cell_type": "markdown",
   "id": "3ce5d7fc",
   "metadata": {},
   "source": [
    "#### Escrita do conjunto de todas as soluções"
   ]
  },
  {
   "cell_type": "code",
   "execution_count": 66,
   "id": "8d661cea",
   "metadata": {
    "scrolled": true
   },
   "outputs": [],
   "source": [
    "# # Print all solutions found\n",
    "# for i, solution in enumerate(solutions_list):\n",
    "#     print(\"---------\")\n",
    "#     print(\"k =\", i)\n",
    "#     print(json.dumps(solution, indent=4))"
   ]
  },
  {
   "cell_type": "markdown",
   "id": "fc899de0",
   "metadata": {},
   "source": [
    "#### Plot"
   ]
  },
  {
   "cell_type": "code",
   "execution_count": 67,
   "id": "03c6692e",
   "metadata": {
    "scrolled": false
   },
   "outputs": [
    {
     "data": {
      "image/png": "[encoded data removed]",
      "text/plain": [
       "<Figure size 800x800 with 1 Axes>"
      ]
     },
     "metadata": {},
     "output_type": "display_data"
    }
   ],
   "source": [
    "plot_graph(input_A, input_b, input_operators, solutions_list, infeasible)"
   ]
  },
  {
   "cell_type": "markdown",
   "id": "1a939054",
   "metadata": {},
   "source": [
    "## Exemplo 3"
   ]
  },
  {
   "cell_type": "markdown",
   "id": "bdd19d0d",
   "metadata": {},
   "source": [
    "### Definição dos dados do modelo"
   ]
  },
  {
   "cell_type": "code",
   "execution_count": 68,
   "id": "a746ce94",
   "metadata": {},
   "outputs": [],
   "source": [
    "problem_type = \"min\"\n",
    "\n",
    "input_costs = [1, 1]\n",
    "\n",
    "input_A = [\n",
    "    [1, 1],\n",
    "    [2, 1]\n",
    "]\n",
    "\n",
    "input_operators = [\">=\", \"<=\"]\n",
    "\n",
    "input_b = [4, 3]"
   ]
  },
  {
   "cell_type": "markdown",
   "id": "a512cef1",
   "metadata": {},
   "source": [
    "### Definição do Ponto Inicial (Primal, Dual e folas do dual)"
   ]
  },
  {
   "cell_type": "code",
   "execution_count": 69,
   "id": "233e0b1c",
   "metadata": {},
   "outputs": [],
   "source": [
    "primal_sol = [1, 1, 4, 4]\n",
    "dual_sol = [0, 0]\n",
    "dual_slacks_sol = [1, 1, 1, 1]"
   ]
  },
  {
   "cell_type": "markdown",
   "id": "7cd8aff0",
   "metadata": {},
   "source": [
    "### Conversão para Formato Padrão <a id=\"conv_fp\"></a>"
   ]
  },
  {
   "cell_type": "code",
   "execution_count": 70,
   "id": "90a85c15",
   "metadata": {},
   "outputs": [],
   "source": [
    "artificial_A, artificial_b, artificial_c, artificial_operators = add_artificial_constraint(\n",
    "    input_A, \n",
    "    input_b, \n",
    "    input_costs, \n",
    "    input_operators\n",
    ")\n",
    "# Valor da variável de folga primal referente à restrição artificial\n",
    "primal_sol.append(1)\n",
    "# Valor da variável dual referente à restrição artificial\n",
    "dual_sol.append(0)\n",
    "# Valor da variável de folga dual referente à restrição artificial\n",
    "dual_slacks_sol.append(1)\n",
    "\n",
    "primal_sol = numpy.array(primal_sol)\n",
    "dual_sol = numpy.array(dual_sol)\n",
    "dual_slacks_sol = numpy.array(dual_slacks_sol)\n",
    "\n",
    "A, c = convert_to_standard_form(problem_type, artificial_A, artificial_operators, artificial_c)\n",
    "b = numpy.copy(artificial_b)\n",
    "\n",
    "n = len(A.T)\n",
    "m = len(A)"
   ]
  },
  {
   "cell_type": "markdown",
   "id": "97d6904e",
   "metadata": {},
   "source": [
    "### Definição dos parâmetros constantes ($\\alpha$, $\\beta$, $K_{max}$, $\\epsilon_{P}$, $\\epsilon_{D}$, $\\epsilon_{F}$):"
   ]
  },
  {
   "cell_type": "code",
   "execution_count": 71,
   "id": "6d725344",
   "metadata": {},
   "outputs": [],
   "source": [
    "alfa = 0.1\n",
    "beta = 0.995\n",
    "it_max = 10\n",
    "primal_max_error = 0.5 * 10**(-3)\n",
    "dual_max_error = 0.5 * 10**(-3)\n",
    "fo_gap_max_error = 0.5 * 10**(-3)"
   ]
  },
  {
   "cell_type": "markdown",
   "id": "d09e9ea6",
   "metadata": {},
   "source": [
    "### Print das entradas"
   ]
  },
  {
   "cell_type": "markdown",
   "id": "d7f2cd7d",
   "metadata": {},
   "source": [
    "#### Modelo no formato padrão"
   ]
  },
  {
   "cell_type": "code",
   "execution_count": 72,
   "id": "5cdb4584",
   "metadata": {
    "scrolled": true
   },
   "outputs": [
    {
     "name": "stdout",
     "output_type": "stream",
     "text": [
      "********************************************************************************\n",
      "MODELO NA FORMA PADRÃO:\n",
      "min \t+ 1x_1 + 1x_2 + 0x_3 + 0x_4 + 0x_5 \n",
      "Subject to:\n",
      "(1)\t+ 1.0x_1 + 1.0x_2 - 1.0x_3 + 0.0x_4 + 0.0x_5 = 4\n",
      "(2)\t+ 2.0x_1 + 1.0x_2 + 0.0x_3 + 1.0x_4 + 0.0x_5 = 3\n",
      "(3)\t+ 1.0x_1 + 1.0x_2 + 0.0x_3 + 0.0x_4 + 1.0x_5 = 8\n",
      "\tx_1>=0, x_2>=0, x_3>=0, x_4>=0, x_5>=0\n",
      "********************************************************************************\n",
      "\n"
     ]
    }
   ],
   "source": [
    "print_model(A, b, c)"
   ]
  },
  {
   "cell_type": "markdown",
   "id": "43707831",
   "metadata": {},
   "source": [
    "#### Valores da solução Inicial"
   ]
  },
  {
   "cell_type": "code",
   "execution_count": 73,
   "id": "bbc1e9ed",
   "metadata": {
    "scrolled": false
   },
   "outputs": [
    {
     "name": "stdout",
     "output_type": "stream",
     "text": [
      "Solução inicial do primal: [1 1 4 4 1]\n",
      "Solução inicial do dual: [0 0 0]\n",
      "Folgas do dual: [1 1 1 1 1]\n"
     ]
    }
   ],
   "source": [
    "print(\"Solução inicial do primal:\", primal_sol)\n",
    "print(\"Solução inicial do dual:\", dual_sol)\n",
    "print(\"Folgas do dual:\", dual_slacks_sol)"
   ]
  },
  {
   "cell_type": "markdown",
   "id": "28f5dde1",
   "metadata": {},
   "source": [
    "### Execução"
   ]
  },
  {
   "cell_type": "code",
   "execution_count": 74,
   "id": "49e2b409",
   "metadata": {},
   "outputs": [],
   "source": [
    "solutions_list, optimal_found, infeasible, unbounded, gap_acceptable, it_max_reached = solve(\n",
    "    A, \n",
    "    b, \n",
    "    c, \n",
    "    primal_sol, \n",
    "    dual_sol, \n",
    "    dual_slacks_sol, \n",
    "    alfa, \n",
    "    beta, \n",
    "    it_max, \n",
    "    primal_max_error, \n",
    "    dual_max_error, \n",
    "    fo_gap_max_error\n",
    ")"
   ]
  },
  {
   "cell_type": "markdown",
   "id": "02bbe652",
   "metadata": {},
   "source": [
    "### Saídas"
   ]
  },
  {
   "cell_type": "code",
   "execution_count": 75,
   "id": "9d187610",
   "metadata": {},
   "outputs": [
    {
     "name": "stdout",
     "output_type": "stream",
     "text": [
      "MÁXIMO DE ITERAÇÕES ALCANÇADAS\n",
      "ÓTIMO =  False\n",
      "ILIMITADA =  False\n",
      "INFACTÍVEL =  True\n",
      "ERRO DO GAP ACEITÁVEL =  True\n",
      "SOLUÇÃO INFACTíVEL\n"
     ]
    }
   ],
   "source": [
    "if (it_max_reached):\n",
    "    print(\"MÁXIMO DE ITERAÇÕES ALCANÇADAS\")\n",
    "    print(\"ÓTIMO = \", optimal_found)\n",
    "    print(\"ILIMITADA = \", unbounded)\n",
    "    print(\"INFACTÍVEL = \", infeasible)\n",
    "    print(\"ERRO DO GAP ACEITÁVEL = \", gap_acceptable)\n",
    "if (optimal_found):\n",
    "    print(\"SOLUÇÃO ÓTIMA ENCONTRADA\")\n",
    "elif (unbounded):\n",
    "    print(\"SOLUÇÃO ILIMITADA\")\n",
    "elif (infeasible):\n",
    "    print(\"SOLUÇÃO INFACTíVEL\")\n",
    "elif (not gap_acceptable):\n",
    "    print(\"PRIMAL E DUAL FACTÍVEIS.\")\n",
    "    print(\"ERRO DO GAP MAIOR QUE ACEITÀVEL.\")\n",
    "elif (not it_max_reached):\n",
    "    print(\"ERRO, SITUAÇÃO DA SOLUÇÃO NÃO IDENTIFICADA.\")\n",
    "    print(\"ÓTIMO = \", optimal_found)\n",
    "    print(\"ILIMITADA = \", unbounded)\n",
    "    print(\"INFACTÍVEL = \", infeasible)\n",
    "    print(\"ERRO DO GAP ACEITÁVEL = \", gap_acceptable)"
   ]
  },
  {
   "cell_type": "markdown",
   "id": "695a5adb",
   "metadata": {},
   "source": [
    "#### Escrita do conjunto de todas as soluções"
   ]
  },
  {
   "cell_type": "code",
   "execution_count": 76,
   "id": "61d9aca4",
   "metadata": {
    "scrolled": true
   },
   "outputs": [],
   "source": [
    "# # Print all solutions found\n",
    "# for i, solution in enumerate(solutions_list):\n",
    "#     print(\"---------\")\n",
    "#     print(\"k =\", i)\n",
    "#     print(json.dumps(solution, indent=4))"
   ]
  },
  {
   "cell_type": "markdown",
   "id": "b99aed70",
   "metadata": {},
   "source": [
    "#### Plot"
   ]
  },
  {
   "cell_type": "code",
   "execution_count": 77,
   "id": "eaa698d6",
   "metadata": {
    "scrolled": false
   },
   "outputs": [
    {
     "data": {
      "image/png": "[encoded data removed]",
      "text/plain": [
       "<Figure size 800x800 with 1 Axes>"
      ]
     },
     "metadata": {},
     "output_type": "display_data"
    }
   ],
   "source": [
    "plot_graph(artificial_A, artificial_b, artificial_operators, solutions_list, infeasible)"
   ]
  }
 ],
 "metadata": {
  "kernelspec": {
   "display_name": "Python 3 (ipykernel)",
   "language": "python",
   "name": "python3"
  },
  "language_info": {
   "codemirror_mode": {
    "name": "ipython",
    "version": 3
   },
   "file_extension": ".py",
   "mimetype": "text/x-python",
   "name": "python",
   "nbconvert_exporter": "python",
   "pygments_lexer": "ipython3",
   "version": "3.11.6"
  }
 },
 "nbformat": 4,
 "nbformat_minor": 5
}
